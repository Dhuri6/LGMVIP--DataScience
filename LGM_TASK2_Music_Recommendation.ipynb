{
 "cells": [
  {
   "cell_type": "markdown",
   "id": "63592dee",
   "metadata": {},
   "source": [
    "# NAME: SAGAR SURYAKANT DHURI\n",
    "# TASK NO 2: MUSIC RECOMMENDATION"
   ]
  },
  {
   "cell_type": "markdown",
   "id": "a31f3107",
   "metadata": {},
   "source": [
    "# Importing Libraries"
   ]
  },
  {
   "cell_type": "code",
   "execution_count": 1,
   "id": "776147b5",
   "metadata": {},
   "outputs": [],
   "source": [
    "\n",
    "import numpy as np\n",
    "import pandas as pd\n",
    "import seaborn as sns\n",
    "from matplotlib import pyplot as plt\n",
    "%matplotlib inline\n",
    "import warnings\n",
    "from sklearn.metrics.pairwise import cosine_similarity\n",
    "from sklearn.feature_extraction.text import CountVectorizer\n",
    "from sklearn.manifold import TSNE"
   ]
  },
  {
   "cell_type": "code",
   "execution_count": null,
   "id": "28981634",
   "metadata": {},
   "outputs": [],
   "source": [
    "sns.set_style(\"whitegrid\")"
   ]
  },
  {
   "cell_type": "code",
   "execution_count": 3,
   "id": "417a5cc9",
   "metadata": {},
   "outputs": [],
   "source": [
    "warnings.filterwarnings(\"ignore\")"
   ]
  },
  {
   "cell_type": "markdown",
   "id": "b9506a7a",
   "metadata": {},
   "source": [
    "# Importing URL"
   ]
  },
  {
   "cell_type": "code",
   "execution_count": 2,
   "id": "f9928c04",
   "metadata": {},
   "outputs": [],
   "source": [
    "songs=pd.read_csv('C:/Users/Admin/OneDrive/Desktop/Music recommen/songs.csv')\n",
    "song_extra_info=pd.read_csv('C:/Users/Admin/OneDrive/Desktop/Music recommen/song_extra_info.csv')\n",
    "train=pd.read_csv('C:/Users/Admin/OneDrive/Desktop/Music recommen/train.csv')\n",
    "members=pd.read_csv('C:/Users/Admin/OneDrive/Desktop/Music recommen/members.csv')\n"
   ]
  },
  {
   "cell_type": "markdown",
   "id": "07339963",
   "metadata": {},
   "source": [
    "# Merging Datasets"
   ]
  },
  {
   "cell_type": "code",
   "execution_count": 5,
   "id": "acf427e9",
   "metadata": {},
   "outputs": [],
   "source": [
    "rs=pd.merge(train,songs,on='song_id',how='left')"
   ]
  },
  {
   "cell_type": "code",
   "execution_count": 6,
   "id": "d2582033",
   "metadata": {},
   "outputs": [],
   "source": [
    "rsse=pd.merge(rs,song_extra_info,on='song_id',how='left')"
   ]
  },
  {
   "cell_type": "code",
   "execution_count": 7,
   "id": "4c7018f5",
   "metadata": {},
   "outputs": [],
   "source": [
    "songs_df=pd.merge(rsse,members,on='msno',how='left')"
   ]
  },
  {
   "cell_type": "markdown",
   "id": "41efc6b9",
   "metadata": {},
   "source": [
    "# Diplaying the datasets"
   ]
  },
  {
   "cell_type": "code",
   "execution_count": 10,
   "id": "ea0f4cc4",
   "metadata": {},
   "outputs": [
    {
     "data": {
      "text/html": [
       "<div>\n",
       "<style scoped>\n",
       "    .dataframe tbody tr th:only-of-type {\n",
       "        vertical-align: middle;\n",
       "    }\n",
       "\n",
       "    .dataframe tbody tr th {\n",
       "        vertical-align: top;\n",
       "    }\n",
       "\n",
       "    .dataframe thead th {\n",
       "        text-align: right;\n",
       "    }\n",
       "</style>\n",
       "<table border=\"1\" class=\"dataframe\">\n",
       "  <thead>\n",
       "    <tr style=\"text-align: right;\">\n",
       "      <th></th>\n",
       "      <th>song_id</th>\n",
       "      <th>song_length</th>\n",
       "      <th>genre_ids</th>\n",
       "      <th>artist_name</th>\n",
       "      <th>composer</th>\n",
       "      <th>lyricist</th>\n",
       "      <th>language</th>\n",
       "    </tr>\n",
       "  </thead>\n",
       "  <tbody>\n",
       "    <tr>\n",
       "      <th>0</th>\n",
       "      <td>CXoTN1eb7AI+DntdU1vbcwGRV4SCIDxZu+YD8JP8r4E=</td>\n",
       "      <td>247640</td>\n",
       "      <td>465</td>\n",
       "      <td>張信哲 (Jeff Chang)</td>\n",
       "      <td>董貞</td>\n",
       "      <td>何啟弘</td>\n",
       "      <td>3.0</td>\n",
       "    </tr>\n",
       "    <tr>\n",
       "      <th>1</th>\n",
       "      <td>o0kFgae9QtnYgRkVPqLJwa05zIhRlUjfF7O1tDw0ZDU=</td>\n",
       "      <td>197328</td>\n",
       "      <td>444</td>\n",
       "      <td>BLACKPINK</td>\n",
       "      <td>TEDDY|  FUTURE BOUNCE|  Bekuh BOOM</td>\n",
       "      <td>TEDDY</td>\n",
       "      <td>31.0</td>\n",
       "    </tr>\n",
       "    <tr>\n",
       "      <th>2</th>\n",
       "      <td>DwVvVurfpuz+XPuFvucclVQEyPqcpUkHR0ne1RQzPs0=</td>\n",
       "      <td>231781</td>\n",
       "      <td>465</td>\n",
       "      <td>SUPER JUNIOR</td>\n",
       "      <td>NaN</td>\n",
       "      <td>NaN</td>\n",
       "      <td>31.0</td>\n",
       "    </tr>\n",
       "    <tr>\n",
       "      <th>3</th>\n",
       "      <td>dKMBWoZyScdxSkihKG+Vf47nc18N9q4m58+b4e7dSSE=</td>\n",
       "      <td>273554</td>\n",
       "      <td>465</td>\n",
       "      <td>S.H.E</td>\n",
       "      <td>湯小康</td>\n",
       "      <td>徐世珍</td>\n",
       "      <td>3.0</td>\n",
       "    </tr>\n",
       "    <tr>\n",
       "      <th>4</th>\n",
       "      <td>W3bqWd3T+VeHFzHAUfARgW9AvVRaF4N5Yzm4Mr6Eo/o=</td>\n",
       "      <td>140329</td>\n",
       "      <td>726</td>\n",
       "      <td>貴族精選</td>\n",
       "      <td>Traditional</td>\n",
       "      <td>Traditional</td>\n",
       "      <td>52.0</td>\n",
       "    </tr>\n",
       "  </tbody>\n",
       "</table>\n",
       "</div>"
      ],
      "text/plain": [
       "                                        song_id  song_length genre_ids  \\\n",
       "0  CXoTN1eb7AI+DntdU1vbcwGRV4SCIDxZu+YD8JP8r4E=       247640       465   \n",
       "1  o0kFgae9QtnYgRkVPqLJwa05zIhRlUjfF7O1tDw0ZDU=       197328       444   \n",
       "2  DwVvVurfpuz+XPuFvucclVQEyPqcpUkHR0ne1RQzPs0=       231781       465   \n",
       "3  dKMBWoZyScdxSkihKG+Vf47nc18N9q4m58+b4e7dSSE=       273554       465   \n",
       "4  W3bqWd3T+VeHFzHAUfARgW9AvVRaF4N5Yzm4Mr6Eo/o=       140329       726   \n",
       "\n",
       "        artist_name                            composer     lyricist  language  \n",
       "0  張信哲 (Jeff Chang)                                  董貞          何啟弘       3.0  \n",
       "1         BLACKPINK  TEDDY|  FUTURE BOUNCE|  Bekuh BOOM        TEDDY      31.0  \n",
       "2      SUPER JUNIOR                                 NaN          NaN      31.0  \n",
       "3             S.H.E                                 湯小康          徐世珍       3.0  \n",
       "4              貴族精選                         Traditional  Traditional      52.0  "
      ]
     },
     "execution_count": 10,
     "metadata": {},
     "output_type": "execute_result"
    }
   ],
   "source": [
    "songs.head()\n"
   ]
  },
  {
   "cell_type": "code",
   "execution_count": 11,
   "id": "dcce616d",
   "metadata": {},
   "outputs": [
    {
     "data": {
      "text/html": [
       "<div>\n",
       "<style scoped>\n",
       "    .dataframe tbody tr th:only-of-type {\n",
       "        vertical-align: middle;\n",
       "    }\n",
       "\n",
       "    .dataframe tbody tr th {\n",
       "        vertical-align: top;\n",
       "    }\n",
       "\n",
       "    .dataframe thead th {\n",
       "        text-align: right;\n",
       "    }\n",
       "</style>\n",
       "<table border=\"1\" class=\"dataframe\">\n",
       "  <thead>\n",
       "    <tr style=\"text-align: right;\">\n",
       "      <th></th>\n",
       "      <th>song_id</th>\n",
       "      <th>song_length</th>\n",
       "      <th>genre_ids</th>\n",
       "      <th>artist_name</th>\n",
       "      <th>composer</th>\n",
       "      <th>lyricist</th>\n",
       "      <th>language</th>\n",
       "    </tr>\n",
       "  </thead>\n",
       "  <tbody>\n",
       "    <tr>\n",
       "      <th>2296315</th>\n",
       "      <td>lg6rn7eV/ZNg0+P+x77kHUL7GDMfoL4eMtXxncseLNA=</td>\n",
       "      <td>20192</td>\n",
       "      <td>958</td>\n",
       "      <td>Catherine Collard</td>\n",
       "      <td>Robert Schumann (1810-1856)</td>\n",
       "      <td>NaN</td>\n",
       "      <td>-1.0</td>\n",
       "    </tr>\n",
       "    <tr>\n",
       "      <th>2296316</th>\n",
       "      <td>nXi1lrSJe+gLoTTNky7If0mNPrIyCQCLwagwR6XopGU=</td>\n",
       "      <td>273391</td>\n",
       "      <td>465</td>\n",
       "      <td>紀文惠 (Justine Chi)</td>\n",
       "      <td>NaN</td>\n",
       "      <td>NaN</td>\n",
       "      <td>3.0</td>\n",
       "    </tr>\n",
       "    <tr>\n",
       "      <th>2296317</th>\n",
       "      <td>9KxSvIjbJyJzfEVWnkMbgR6dyn6d54ot0N5FKyKqii8=</td>\n",
       "      <td>445172</td>\n",
       "      <td>1609</td>\n",
       "      <td>Various Artists</td>\n",
       "      <td>NaN</td>\n",
       "      <td>NaN</td>\n",
       "      <td>52.0</td>\n",
       "    </tr>\n",
       "    <tr>\n",
       "      <th>2296318</th>\n",
       "      <td>UO8Y2MR2sjOn2q/Tp8/lzZTGKmLEvwZ20oWanG4XnYc=</td>\n",
       "      <td>172669</td>\n",
       "      <td>465</td>\n",
       "      <td>Peter Paul &amp; Mary</td>\n",
       "      <td>NaN</td>\n",
       "      <td>NaN</td>\n",
       "      <td>52.0</td>\n",
       "    </tr>\n",
       "    <tr>\n",
       "      <th>2296319</th>\n",
       "      <td>V/9qPSUOGT0FeIGBhDIZRRz5Y5yyjdXC2Z/+bJExo5s=</td>\n",
       "      <td>270466</td>\n",
       "      <td>829</td>\n",
       "      <td>Kim Robertson</td>\n",
       "      <td>NaN</td>\n",
       "      <td>NaN</td>\n",
       "      <td>52.0</td>\n",
       "    </tr>\n",
       "  </tbody>\n",
       "</table>\n",
       "</div>"
      ],
      "text/plain": [
       "                                              song_id  song_length genre_ids  \\\n",
       "2296315  lg6rn7eV/ZNg0+P+x77kHUL7GDMfoL4eMtXxncseLNA=        20192       958   \n",
       "2296316  nXi1lrSJe+gLoTTNky7If0mNPrIyCQCLwagwR6XopGU=       273391       465   \n",
       "2296317  9KxSvIjbJyJzfEVWnkMbgR6dyn6d54ot0N5FKyKqii8=       445172      1609   \n",
       "2296318  UO8Y2MR2sjOn2q/Tp8/lzZTGKmLEvwZ20oWanG4XnYc=       172669       465   \n",
       "2296319  V/9qPSUOGT0FeIGBhDIZRRz5Y5yyjdXC2Z/+bJExo5s=       270466       829   \n",
       "\n",
       "               artist_name                     composer lyricist  language  \n",
       "2296315  Catherine Collard  Robert Schumann (1810-1856)      NaN      -1.0  \n",
       "2296316  紀文惠 (Justine Chi)                          NaN      NaN       3.0  \n",
       "2296317    Various Artists                          NaN      NaN      52.0  \n",
       "2296318  Peter Paul & Mary                          NaN      NaN      52.0  \n",
       "2296319      Kim Robertson                          NaN      NaN      52.0  "
      ]
     },
     "execution_count": 11,
     "metadata": {},
     "output_type": "execute_result"
    }
   ],
   "source": [
    "songs.tail()"
   ]
  },
  {
   "cell_type": "code",
   "execution_count": 12,
   "id": "c4ca82f9",
   "metadata": {},
   "outputs": [
    {
     "data": {
      "text/html": [
       "<div>\n",
       "<style scoped>\n",
       "    .dataframe tbody tr th:only-of-type {\n",
       "        vertical-align: middle;\n",
       "    }\n",
       "\n",
       "    .dataframe tbody tr th {\n",
       "        vertical-align: top;\n",
       "    }\n",
       "\n",
       "    .dataframe thead th {\n",
       "        text-align: right;\n",
       "    }\n",
       "</style>\n",
       "<table border=\"1\" class=\"dataframe\">\n",
       "  <thead>\n",
       "    <tr style=\"text-align: right;\">\n",
       "      <th></th>\n",
       "      <th>song_id</th>\n",
       "      <th>name</th>\n",
       "      <th>isrc</th>\n",
       "    </tr>\n",
       "  </thead>\n",
       "  <tbody>\n",
       "    <tr>\n",
       "      <th>0</th>\n",
       "      <td>LP7pLJoJFBvyuUwvu+oLzjT+bI+UeBPURCecJsX1jjs=</td>\n",
       "      <td>我們</td>\n",
       "      <td>TWUM71200043</td>\n",
       "    </tr>\n",
       "    <tr>\n",
       "      <th>1</th>\n",
       "      <td>ClazTFnk6r0Bnuie44bocdNMM3rdlrq0bCGAsGUWcHE=</td>\n",
       "      <td>Let Me Love You</td>\n",
       "      <td>QMZSY1600015</td>\n",
       "    </tr>\n",
       "    <tr>\n",
       "      <th>2</th>\n",
       "      <td>u2ja/bZE3zhCGxvbbOB3zOoUjx27u40cf5g09UXMoKQ=</td>\n",
       "      <td>原諒我</td>\n",
       "      <td>TWA530887303</td>\n",
       "    </tr>\n",
       "    <tr>\n",
       "      <th>3</th>\n",
       "      <td>92Fqsy0+p6+RHe2EoLKjHahORHR1Kq1TBJoClW9v+Ts=</td>\n",
       "      <td>Classic</td>\n",
       "      <td>USSM11301446</td>\n",
       "    </tr>\n",
       "    <tr>\n",
       "      <th>4</th>\n",
       "      <td>0QFmz/+rJy1Q56C1DuYqT9hKKqi5TUqx0sN0IwvoHrw=</td>\n",
       "      <td>愛投羅網</td>\n",
       "      <td>TWA471306001</td>\n",
       "    </tr>\n",
       "  </tbody>\n",
       "</table>\n",
       "</div>"
      ],
      "text/plain": [
       "                                        song_id             name          isrc\n",
       "0  LP7pLJoJFBvyuUwvu+oLzjT+bI+UeBPURCecJsX1jjs=               我們  TWUM71200043\n",
       "1  ClazTFnk6r0Bnuie44bocdNMM3rdlrq0bCGAsGUWcHE=  Let Me Love You  QMZSY1600015\n",
       "2  u2ja/bZE3zhCGxvbbOB3zOoUjx27u40cf5g09UXMoKQ=              原諒我  TWA530887303\n",
       "3  92Fqsy0+p6+RHe2EoLKjHahORHR1Kq1TBJoClW9v+Ts=          Classic  USSM11301446\n",
       "4  0QFmz/+rJy1Q56C1DuYqT9hKKqi5TUqx0sN0IwvoHrw=             愛投羅網  TWA471306001"
      ]
     },
     "execution_count": 12,
     "metadata": {},
     "output_type": "execute_result"
    }
   ],
   "source": [
    "song_extra_info.head()"
   ]
  },
  {
   "cell_type": "code",
   "execution_count": 13,
   "id": "a7880a9c",
   "metadata": {},
   "outputs": [
    {
     "data": {
      "text/html": [
       "<div>\n",
       "<style scoped>\n",
       "    .dataframe tbody tr th:only-of-type {\n",
       "        vertical-align: middle;\n",
       "    }\n",
       "\n",
       "    .dataframe tbody tr th {\n",
       "        vertical-align: top;\n",
       "    }\n",
       "\n",
       "    .dataframe thead th {\n",
       "        text-align: right;\n",
       "    }\n",
       "</style>\n",
       "<table border=\"1\" class=\"dataframe\">\n",
       "  <thead>\n",
       "    <tr style=\"text-align: right;\">\n",
       "      <th></th>\n",
       "      <th>song_id</th>\n",
       "      <th>name</th>\n",
       "      <th>isrc</th>\n",
       "    </tr>\n",
       "  </thead>\n",
       "  <tbody>\n",
       "    <tr>\n",
       "      <th>2295966</th>\n",
       "      <td>hLnetpF6UbPg28sSfXnPE2vsdaGsLvddlXEdJR4VTIA=</td>\n",
       "      <td>Deep Breathing</td>\n",
       "      <td>PLL431720793</td>\n",
       "    </tr>\n",
       "    <tr>\n",
       "      <th>2295967</th>\n",
       "      <td>N+6vJ8actKQm0S3Fpf4elipTjoAo9ev28aA5FJN5e40=</td>\n",
       "      <td>In Hiding</td>\n",
       "      <td>US5UL1519827</td>\n",
       "    </tr>\n",
       "    <tr>\n",
       "      <th>2295968</th>\n",
       "      <td>pv35uG0ts05mWtirM/AMOWEzbHxIVart5ZzRXqKUY1c=</td>\n",
       "      <td>Il Est Ne Le Divin Enfant</td>\n",
       "      <td>PLL431502294</td>\n",
       "    </tr>\n",
       "    <tr>\n",
       "      <th>2295969</th>\n",
       "      <td>QSySnm8jt2Go7byY34/PxsZP6dPCins2j2cyYquNhBo=</td>\n",
       "      <td>The Exodus Song</td>\n",
       "      <td>DEPZ69316095</td>\n",
       "    </tr>\n",
       "    <tr>\n",
       "      <th>2295970</th>\n",
       "      <td>DYKJKSgDOKxb19XzOVO81176qTH0OIHCsfzFRm/BG+g=</td>\n",
       "      <td>Like This</td>\n",
       "      <td>US5UL1512426</td>\n",
       "    </tr>\n",
       "  </tbody>\n",
       "</table>\n",
       "</div>"
      ],
      "text/plain": [
       "                                              song_id  \\\n",
       "2295966  hLnetpF6UbPg28sSfXnPE2vsdaGsLvddlXEdJR4VTIA=   \n",
       "2295967  N+6vJ8actKQm0S3Fpf4elipTjoAo9ev28aA5FJN5e40=   \n",
       "2295968  pv35uG0ts05mWtirM/AMOWEzbHxIVart5ZzRXqKUY1c=   \n",
       "2295969  QSySnm8jt2Go7byY34/PxsZP6dPCins2j2cyYquNhBo=   \n",
       "2295970  DYKJKSgDOKxb19XzOVO81176qTH0OIHCsfzFRm/BG+g=   \n",
       "\n",
       "                              name          isrc  \n",
       "2295966             Deep Breathing  PLL431720793  \n",
       "2295967                  In Hiding  US5UL1519827  \n",
       "2295968  Il Est Ne Le Divin Enfant  PLL431502294  \n",
       "2295969            The Exodus Song  DEPZ69316095  \n",
       "2295970                  Like This  US5UL1512426  "
      ]
     },
     "execution_count": 13,
     "metadata": {},
     "output_type": "execute_result"
    }
   ],
   "source": [
    "song_extra_info.tail()"
   ]
  },
  {
   "cell_type": "code",
   "execution_count": 14,
   "id": "9f894014",
   "metadata": {},
   "outputs": [
    {
     "data": {
      "text/html": [
       "<div>\n",
       "<style scoped>\n",
       "    .dataframe tbody tr th:only-of-type {\n",
       "        vertical-align: middle;\n",
       "    }\n",
       "\n",
       "    .dataframe tbody tr th {\n",
       "        vertical-align: top;\n",
       "    }\n",
       "\n",
       "    .dataframe thead th {\n",
       "        text-align: right;\n",
       "    }\n",
       "</style>\n",
       "<table border=\"1\" class=\"dataframe\">\n",
       "  <thead>\n",
       "    <tr style=\"text-align: right;\">\n",
       "      <th></th>\n",
       "      <th>msno</th>\n",
       "      <th>song_id</th>\n",
       "      <th>source_system_tab</th>\n",
       "      <th>source_screen_name</th>\n",
       "      <th>source_type</th>\n",
       "      <th>target</th>\n",
       "    </tr>\n",
       "  </thead>\n",
       "  <tbody>\n",
       "    <tr>\n",
       "      <th>0</th>\n",
       "      <td>FGtllVqz18RPiwJj/edr2gV78zirAiY/9SmYvia+kCg=</td>\n",
       "      <td>BBzumQNXUHKdEBOB7mAJuzok+IJA1c2Ryg/yzTF6tik=</td>\n",
       "      <td>explore</td>\n",
       "      <td>Explore</td>\n",
       "      <td>online-playlist</td>\n",
       "      <td>1</td>\n",
       "    </tr>\n",
       "    <tr>\n",
       "      <th>1</th>\n",
       "      <td>Xumu+NIjS6QYVxDS4/t3SawvJ7viT9hPKXmf0RtLNx8=</td>\n",
       "      <td>bhp/MpSNoqoxOIB+/l8WPqu6jldth4DIpCm3ayXnJqM=</td>\n",
       "      <td>my library</td>\n",
       "      <td>Local playlist more</td>\n",
       "      <td>local-playlist</td>\n",
       "      <td>1</td>\n",
       "    </tr>\n",
       "    <tr>\n",
       "      <th>2</th>\n",
       "      <td>Xumu+NIjS6QYVxDS4/t3SawvJ7viT9hPKXmf0RtLNx8=</td>\n",
       "      <td>JNWfrrC7zNN7BdMpsISKa4Mw+xVJYNnxXh3/Epw7QgY=</td>\n",
       "      <td>my library</td>\n",
       "      <td>Local playlist more</td>\n",
       "      <td>local-playlist</td>\n",
       "      <td>1</td>\n",
       "    </tr>\n",
       "    <tr>\n",
       "      <th>3</th>\n",
       "      <td>Xumu+NIjS6QYVxDS4/t3SawvJ7viT9hPKXmf0RtLNx8=</td>\n",
       "      <td>2A87tzfnJTSWqD7gIZHisolhe4DMdzkbd6LzO1KHjNs=</td>\n",
       "      <td>my library</td>\n",
       "      <td>Local playlist more</td>\n",
       "      <td>local-playlist</td>\n",
       "      <td>1</td>\n",
       "    </tr>\n",
       "    <tr>\n",
       "      <th>4</th>\n",
       "      <td>FGtllVqz18RPiwJj/edr2gV78zirAiY/9SmYvia+kCg=</td>\n",
       "      <td>3qm6XTZ6MOCU11x8FIVbAGH5l5uMkT3/ZalWG1oo2Gc=</td>\n",
       "      <td>explore</td>\n",
       "      <td>Explore</td>\n",
       "      <td>online-playlist</td>\n",
       "      <td>1</td>\n",
       "    </tr>\n",
       "  </tbody>\n",
       "</table>\n",
       "</div>"
      ],
      "text/plain": [
       "                                           msno  \\\n",
       "0  FGtllVqz18RPiwJj/edr2gV78zirAiY/9SmYvia+kCg=   \n",
       "1  Xumu+NIjS6QYVxDS4/t3SawvJ7viT9hPKXmf0RtLNx8=   \n",
       "2  Xumu+NIjS6QYVxDS4/t3SawvJ7viT9hPKXmf0RtLNx8=   \n",
       "3  Xumu+NIjS6QYVxDS4/t3SawvJ7viT9hPKXmf0RtLNx8=   \n",
       "4  FGtllVqz18RPiwJj/edr2gV78zirAiY/9SmYvia+kCg=   \n",
       "\n",
       "                                        song_id source_system_tab  \\\n",
       "0  BBzumQNXUHKdEBOB7mAJuzok+IJA1c2Ryg/yzTF6tik=           explore   \n",
       "1  bhp/MpSNoqoxOIB+/l8WPqu6jldth4DIpCm3ayXnJqM=        my library   \n",
       "2  JNWfrrC7zNN7BdMpsISKa4Mw+xVJYNnxXh3/Epw7QgY=        my library   \n",
       "3  2A87tzfnJTSWqD7gIZHisolhe4DMdzkbd6LzO1KHjNs=        my library   \n",
       "4  3qm6XTZ6MOCU11x8FIVbAGH5l5uMkT3/ZalWG1oo2Gc=           explore   \n",
       "\n",
       "    source_screen_name      source_type  target  \n",
       "0              Explore  online-playlist       1  \n",
       "1  Local playlist more   local-playlist       1  \n",
       "2  Local playlist more   local-playlist       1  \n",
       "3  Local playlist more   local-playlist       1  \n",
       "4              Explore  online-playlist       1  "
      ]
     },
     "execution_count": 14,
     "metadata": {},
     "output_type": "execute_result"
    }
   ],
   "source": [
    "train.head()"
   ]
  },
  {
   "cell_type": "code",
   "execution_count": 15,
   "id": "7ac2738e",
   "metadata": {},
   "outputs": [
    {
     "data": {
      "text/html": [
       "<div>\n",
       "<style scoped>\n",
       "    .dataframe tbody tr th:only-of-type {\n",
       "        vertical-align: middle;\n",
       "    }\n",
       "\n",
       "    .dataframe tbody tr th {\n",
       "        vertical-align: top;\n",
       "    }\n",
       "\n",
       "    .dataframe thead th {\n",
       "        text-align: right;\n",
       "    }\n",
       "</style>\n",
       "<table border=\"1\" class=\"dataframe\">\n",
       "  <thead>\n",
       "    <tr style=\"text-align: right;\">\n",
       "      <th></th>\n",
       "      <th>msno</th>\n",
       "      <th>song_id</th>\n",
       "      <th>source_system_tab</th>\n",
       "      <th>source_screen_name</th>\n",
       "      <th>source_type</th>\n",
       "      <th>target</th>\n",
       "    </tr>\n",
       "  </thead>\n",
       "  <tbody>\n",
       "    <tr>\n",
       "      <th>7377413</th>\n",
       "      <td>6xdFzPlrasIDD95mQWXVC3Bg4ptnGYtBl4ztVEZMddU=</td>\n",
       "      <td>VJTxizih/o28kXCbtPbIyWXScoXGvxyYtl6R+0YB5JM=</td>\n",
       "      <td>my library</td>\n",
       "      <td>Local playlist more</td>\n",
       "      <td>local-playlist</td>\n",
       "      <td>1</td>\n",
       "    </tr>\n",
       "    <tr>\n",
       "      <th>7377414</th>\n",
       "      <td>ZxbVmt3Kh/XOH+h58c2Kdj6SjFZk+wnUO006IgWzMQE=</td>\n",
       "      <td>z1mqaU9YOX7T/PFDvUoWozdFq7rC3KwaQP7nFVprjMI=</td>\n",
       "      <td>search</td>\n",
       "      <td>Search</td>\n",
       "      <td>song</td>\n",
       "      <td>0</td>\n",
       "    </tr>\n",
       "    <tr>\n",
       "      <th>7377415</th>\n",
       "      <td>ZxbVmt3Kh/XOH+h58c2Kdj6SjFZk+wnUO006IgWzMQE=</td>\n",
       "      <td>750RprmFfLV0bymtDH88g24pLZGVi5VpBAI300P6UOA=</td>\n",
       "      <td>search</td>\n",
       "      <td>Search</td>\n",
       "      <td>song</td>\n",
       "      <td>1</td>\n",
       "    </tr>\n",
       "    <tr>\n",
       "      <th>7377416</th>\n",
       "      <td>0aH4Hd3ziPSRHClRX8rkeOEaAG5EPPkW1mKGCdXEok0=</td>\n",
       "      <td>G8wgqObgeAMER/rVCIlgcNeQ8mm0CzF/GsxiMK8TTnA=</td>\n",
       "      <td>discover</td>\n",
       "      <td>Discover Genre</td>\n",
       "      <td>online-playlist</td>\n",
       "      <td>1</td>\n",
       "    </tr>\n",
       "    <tr>\n",
       "      <th>7377417</th>\n",
       "      <td>0aH4Hd3ziPSRHClRX8rkeOEaAG5EPPkW1mKGCdXEok0=</td>\n",
       "      <td>Ju0VGkjWeBUZCd7r5Az2hUImhMoWxWLUicOedsmvG0g=</td>\n",
       "      <td>discover</td>\n",
       "      <td>Discover Genre</td>\n",
       "      <td>online-playlist</td>\n",
       "      <td>1</td>\n",
       "    </tr>\n",
       "  </tbody>\n",
       "</table>\n",
       "</div>"
      ],
      "text/plain": [
       "                                                 msno  \\\n",
       "7377413  6xdFzPlrasIDD95mQWXVC3Bg4ptnGYtBl4ztVEZMddU=   \n",
       "7377414  ZxbVmt3Kh/XOH+h58c2Kdj6SjFZk+wnUO006IgWzMQE=   \n",
       "7377415  ZxbVmt3Kh/XOH+h58c2Kdj6SjFZk+wnUO006IgWzMQE=   \n",
       "7377416  0aH4Hd3ziPSRHClRX8rkeOEaAG5EPPkW1mKGCdXEok0=   \n",
       "7377417  0aH4Hd3ziPSRHClRX8rkeOEaAG5EPPkW1mKGCdXEok0=   \n",
       "\n",
       "                                              song_id source_system_tab  \\\n",
       "7377413  VJTxizih/o28kXCbtPbIyWXScoXGvxyYtl6R+0YB5JM=        my library   \n",
       "7377414  z1mqaU9YOX7T/PFDvUoWozdFq7rC3KwaQP7nFVprjMI=            search   \n",
       "7377415  750RprmFfLV0bymtDH88g24pLZGVi5VpBAI300P6UOA=            search   \n",
       "7377416  G8wgqObgeAMER/rVCIlgcNeQ8mm0CzF/GsxiMK8TTnA=          discover   \n",
       "7377417  Ju0VGkjWeBUZCd7r5Az2hUImhMoWxWLUicOedsmvG0g=          discover   \n",
       "\n",
       "          source_screen_name      source_type  target  \n",
       "7377413  Local playlist more   local-playlist       1  \n",
       "7377414               Search             song       0  \n",
       "7377415               Search             song       1  \n",
       "7377416       Discover Genre  online-playlist       1  \n",
       "7377417       Discover Genre  online-playlist       1  "
      ]
     },
     "execution_count": 15,
     "metadata": {},
     "output_type": "execute_result"
    }
   ],
   "source": [
    "train.tail()"
   ]
  },
  {
   "cell_type": "code",
   "execution_count": 16,
   "id": "1dcbe119",
   "metadata": {},
   "outputs": [
    {
     "data": {
      "text/html": [
       "<div>\n",
       "<style scoped>\n",
       "    .dataframe tbody tr th:only-of-type {\n",
       "        vertical-align: middle;\n",
       "    }\n",
       "\n",
       "    .dataframe tbody tr th {\n",
       "        vertical-align: top;\n",
       "    }\n",
       "\n",
       "    .dataframe thead th {\n",
       "        text-align: right;\n",
       "    }\n",
       "</style>\n",
       "<table border=\"1\" class=\"dataframe\">\n",
       "  <thead>\n",
       "    <tr style=\"text-align: right;\">\n",
       "      <th></th>\n",
       "      <th>msno</th>\n",
       "      <th>city</th>\n",
       "      <th>bd</th>\n",
       "      <th>gender</th>\n",
       "      <th>registered_via</th>\n",
       "      <th>registration_init_time</th>\n",
       "      <th>expiration_date</th>\n",
       "    </tr>\n",
       "  </thead>\n",
       "  <tbody>\n",
       "    <tr>\n",
       "      <th>0</th>\n",
       "      <td>XQxgAYj3klVKjR3oxPPXYYFp4soD4TuBghkhMTD4oTw=</td>\n",
       "      <td>1</td>\n",
       "      <td>0</td>\n",
       "      <td>NaN</td>\n",
       "      <td>7</td>\n",
       "      <td>20110820</td>\n",
       "      <td>20170920</td>\n",
       "    </tr>\n",
       "    <tr>\n",
       "      <th>1</th>\n",
       "      <td>UizsfmJb9mV54qE9hCYyU07Va97c0lCRLEQX3ae+ztM=</td>\n",
       "      <td>1</td>\n",
       "      <td>0</td>\n",
       "      <td>NaN</td>\n",
       "      <td>7</td>\n",
       "      <td>20150628</td>\n",
       "      <td>20170622</td>\n",
       "    </tr>\n",
       "    <tr>\n",
       "      <th>2</th>\n",
       "      <td>D8nEhsIOBSoE6VthTaqDX8U6lqjJ7dLdr72mOyLya2A=</td>\n",
       "      <td>1</td>\n",
       "      <td>0</td>\n",
       "      <td>NaN</td>\n",
       "      <td>4</td>\n",
       "      <td>20160411</td>\n",
       "      <td>20170712</td>\n",
       "    </tr>\n",
       "    <tr>\n",
       "      <th>3</th>\n",
       "      <td>mCuD+tZ1hERA/o5GPqk38e041J8ZsBaLcu7nGoIIvhI=</td>\n",
       "      <td>1</td>\n",
       "      <td>0</td>\n",
       "      <td>NaN</td>\n",
       "      <td>9</td>\n",
       "      <td>20150906</td>\n",
       "      <td>20150907</td>\n",
       "    </tr>\n",
       "    <tr>\n",
       "      <th>4</th>\n",
       "      <td>q4HRBfVSssAFS9iRfxWrohxuk9kCYMKjHOEagUMV6rQ=</td>\n",
       "      <td>1</td>\n",
       "      <td>0</td>\n",
       "      <td>NaN</td>\n",
       "      <td>4</td>\n",
       "      <td>20170126</td>\n",
       "      <td>20170613</td>\n",
       "    </tr>\n",
       "  </tbody>\n",
       "</table>\n",
       "</div>"
      ],
      "text/plain": [
       "                                           msno  city  bd gender  \\\n",
       "0  XQxgAYj3klVKjR3oxPPXYYFp4soD4TuBghkhMTD4oTw=     1   0    NaN   \n",
       "1  UizsfmJb9mV54qE9hCYyU07Va97c0lCRLEQX3ae+ztM=     1   0    NaN   \n",
       "2  D8nEhsIOBSoE6VthTaqDX8U6lqjJ7dLdr72mOyLya2A=     1   0    NaN   \n",
       "3  mCuD+tZ1hERA/o5GPqk38e041J8ZsBaLcu7nGoIIvhI=     1   0    NaN   \n",
       "4  q4HRBfVSssAFS9iRfxWrohxuk9kCYMKjHOEagUMV6rQ=     1   0    NaN   \n",
       "\n",
       "   registered_via  registration_init_time  expiration_date  \n",
       "0               7                20110820         20170920  \n",
       "1               7                20150628         20170622  \n",
       "2               4                20160411         20170712  \n",
       "3               9                20150906         20150907  \n",
       "4               4                20170126         20170613  "
      ]
     },
     "execution_count": 16,
     "metadata": {},
     "output_type": "execute_result"
    }
   ],
   "source": [
    "members.head()\n"
   ]
  },
  {
   "cell_type": "code",
   "execution_count": 17,
   "id": "3fdd7d4f",
   "metadata": {},
   "outputs": [
    {
     "data": {
      "text/html": [
       "<div>\n",
       "<style scoped>\n",
       "    .dataframe tbody tr th:only-of-type {\n",
       "        vertical-align: middle;\n",
       "    }\n",
       "\n",
       "    .dataframe tbody tr th {\n",
       "        vertical-align: top;\n",
       "    }\n",
       "\n",
       "    .dataframe thead th {\n",
       "        text-align: right;\n",
       "    }\n",
       "</style>\n",
       "<table border=\"1\" class=\"dataframe\">\n",
       "  <thead>\n",
       "    <tr style=\"text-align: right;\">\n",
       "      <th></th>\n",
       "      <th>msno</th>\n",
       "      <th>city</th>\n",
       "      <th>bd</th>\n",
       "      <th>gender</th>\n",
       "      <th>registered_via</th>\n",
       "      <th>registration_init_time</th>\n",
       "      <th>expiration_date</th>\n",
       "    </tr>\n",
       "  </thead>\n",
       "  <tbody>\n",
       "    <tr>\n",
       "      <th>34398</th>\n",
       "      <td>Wwd/cudKVuLJ3txRVxlg2Zaeliu+LRUfiBmfrnxhRCY=</td>\n",
       "      <td>1</td>\n",
       "      <td>0</td>\n",
       "      <td>NaN</td>\n",
       "      <td>7</td>\n",
       "      <td>20131111</td>\n",
       "      <td>20170910</td>\n",
       "    </tr>\n",
       "    <tr>\n",
       "      <th>34399</th>\n",
       "      <td>g3JGnJX6Hg50lFbrNWfsHwCUmApIkiv2M8sXOaeXoIQ=</td>\n",
       "      <td>4</td>\n",
       "      <td>18</td>\n",
       "      <td>male</td>\n",
       "      <td>3</td>\n",
       "      <td>20141024</td>\n",
       "      <td>20170518</td>\n",
       "    </tr>\n",
       "    <tr>\n",
       "      <th>34400</th>\n",
       "      <td>IMaPMJuyN+ip9Vqi+z2XuXbFAP2kbHr+EvvCNkFfj+o=</td>\n",
       "      <td>1</td>\n",
       "      <td>0</td>\n",
       "      <td>NaN</td>\n",
       "      <td>7</td>\n",
       "      <td>20130802</td>\n",
       "      <td>20170908</td>\n",
       "    </tr>\n",
       "    <tr>\n",
       "      <th>34401</th>\n",
       "      <td>WAnCAJjUty9Stv8yKtV7ZC7PN+ilOy5FX3aIJgGPANM=</td>\n",
       "      <td>1</td>\n",
       "      <td>0</td>\n",
       "      <td>NaN</td>\n",
       "      <td>7</td>\n",
       "      <td>20151020</td>\n",
       "      <td>20170920</td>\n",
       "    </tr>\n",
       "    <tr>\n",
       "      <th>34402</th>\n",
       "      <td>xH8KpzKGeNNq6dOvy51c/8VzqOiGG+m6vabhsPSDHX4=</td>\n",
       "      <td>1</td>\n",
       "      <td>0</td>\n",
       "      <td>NaN</td>\n",
       "      <td>4</td>\n",
       "      <td>20160815</td>\n",
       "      <td>20160818</td>\n",
       "    </tr>\n",
       "  </tbody>\n",
       "</table>\n",
       "</div>"
      ],
      "text/plain": [
       "                                               msno  city  bd gender  \\\n",
       "34398  Wwd/cudKVuLJ3txRVxlg2Zaeliu+LRUfiBmfrnxhRCY=     1   0    NaN   \n",
       "34399  g3JGnJX6Hg50lFbrNWfsHwCUmApIkiv2M8sXOaeXoIQ=     4  18   male   \n",
       "34400  IMaPMJuyN+ip9Vqi+z2XuXbFAP2kbHr+EvvCNkFfj+o=     1   0    NaN   \n",
       "34401  WAnCAJjUty9Stv8yKtV7ZC7PN+ilOy5FX3aIJgGPANM=     1   0    NaN   \n",
       "34402  xH8KpzKGeNNq6dOvy51c/8VzqOiGG+m6vabhsPSDHX4=     1   0    NaN   \n",
       "\n",
       "       registered_via  registration_init_time  expiration_date  \n",
       "34398               7                20131111         20170910  \n",
       "34399               3                20141024         20170518  \n",
       "34400               7                20130802         20170908  \n",
       "34401               7                20151020         20170920  \n",
       "34402               4                20160815         20160818  "
      ]
     },
     "execution_count": 17,
     "metadata": {},
     "output_type": "execute_result"
    }
   ],
   "source": [
    "members.tail()"
   ]
  },
  {
   "cell_type": "markdown",
   "id": "7c4b142c",
   "metadata": {},
   "source": [
    "# Data Cleaning "
   ]
  },
  {
   "cell_type": "code",
   "execution_count": 22,
   "id": "135e3315",
   "metadata": {},
   "outputs": [
    {
     "data": {
      "text/plain": [
       "False"
      ]
     },
     "execution_count": 22,
     "metadata": {},
     "output_type": "execute_result"
    }
   ],
   "source": [
    "songs['genre_ids'].is_unique \n",
    "\n"
   ]
  },
  {
   "cell_type": "code",
   "execution_count": 23,
   "id": "451dc169",
   "metadata": {},
   "outputs": [
    {
     "data": {
      "text/plain": [
       "True"
      ]
     },
     "execution_count": 23,
     "metadata": {},
     "output_type": "execute_result"
    }
   ],
   "source": [
    "song_extra_info['song_id'].is_unique"
   ]
  },
  {
   "cell_type": "code",
   "execution_count": 24,
   "id": "59519538",
   "metadata": {},
   "outputs": [
    {
     "data": {
      "text/plain": [
       "False"
      ]
     },
     "execution_count": 24,
     "metadata": {},
     "output_type": "execute_result"
    }
   ],
   "source": [
    "train['song_id'].is_unique"
   ]
  },
  {
   "cell_type": "code",
   "execution_count": 25,
   "id": "755f0133",
   "metadata": {},
   "outputs": [
    {
     "data": {
      "text/plain": [
       "True"
      ]
     },
     "execution_count": 25,
     "metadata": {},
     "output_type": "execute_result"
    }
   ],
   "source": [
    "members['msno'].is_unique"
   ]
  },
  {
   "cell_type": "code",
   "execution_count": 26,
   "id": "ee563056",
   "metadata": {},
   "outputs": [
    {
     "data": {
      "text/plain": [
       "song_id        dKMBWoZyScdxSkihKG+Vf47nc18N9q4m58+b4e7dSSE=\n",
       "song_length                                          273554\n",
       "genre_ids                                               465\n",
       "artist_name                                           S.H.E\n",
       "composer                                                湯小康\n",
       "lyricist                                                徐世珍\n",
       "language                                                3.0\n",
       "Name: 3, dtype: object"
      ]
     },
     "execution_count": 26,
     "metadata": {},
     "output_type": "execute_result"
    }
   ],
   "source": [
    "songs.loc[3]"
   ]
  },
  {
   "cell_type": "code",
   "execution_count": 29,
   "id": "2d944fa8",
   "metadata": {},
   "outputs": [
    {
     "data": {
      "text/plain": [
       "3                 465\n",
       "4                 726\n",
       "5     864|857|850|843\n",
       "6                 458\n",
       "7                 465\n",
       "8                 465\n",
       "9            352|1995\n",
       "10               2157\n",
       "11                465\n",
       "12                726\n",
       "Name: genre_ids, dtype: object"
      ]
     },
     "execution_count": 29,
     "metadata": {},
     "output_type": "execute_result"
    }
   ],
   "source": [
    "songs.loc[3:, 'genre_ids'].head(10)"
   ]
  },
  {
   "cell_type": "code",
   "execution_count": 30,
   "id": "25f0feeb",
   "metadata": {},
   "outputs": [
    {
     "name": "stdout",
     "output_type": "stream",
     "text": [
      "0          False\n",
      "1          False\n",
      "2          False\n",
      "3          False\n",
      "4          False\n",
      "           ...  \n",
      "2296315    False\n",
      "2296316    False\n",
      "2296317    False\n",
      "2296318    False\n",
      "2296319    False\n",
      "Length: 2296320, dtype: bool\n"
     ]
    }
   ],
   "source": [
    "print(songs.duplicated())"
   ]
  },
  {
   "cell_type": "code",
   "execution_count": 35,
   "id": "94f9b76e",
   "metadata": {},
   "outputs": [
    {
     "name": "stdout",
     "output_type": "stream",
     "text": [
      "<class 'pandas.core.frame.DataFrame'>\n",
      "RangeIndex: 2296320 entries, 0 to 2296319\n",
      "Data columns (total 7 columns):\n",
      " #   Column       Dtype  \n",
      "---  ------       -----  \n",
      " 0   song_id      object \n",
      " 1   song_length  int64  \n",
      " 2   genre_ids    object \n",
      " 3   artist_name  object \n",
      " 4   composer     object \n",
      " 5   lyricist     object \n",
      " 6   language     float64\n",
      "dtypes: float64(1), int64(1), object(5)\n",
      "memory usage: 122.6+ MB\n",
      "<class 'pandas.core.frame.DataFrame'>\n",
      "RangeIndex: 2295971 entries, 0 to 2295970\n",
      "Data columns (total 3 columns):\n",
      " #   Column   Dtype \n",
      "---  ------   ----- \n",
      " 0   song_id  object\n",
      " 1   name     object\n",
      " 2   isrc     object\n",
      "dtypes: object(3)\n",
      "memory usage: 52.6+ MB\n",
      "<class 'pandas.core.frame.DataFrame'>\n",
      "RangeIndex: 7377418 entries, 0 to 7377417\n",
      "Data columns (total 6 columns):\n",
      " #   Column              Dtype \n",
      "---  ------              ----- \n",
      " 0   msno                object\n",
      " 1   song_id             object\n",
      " 2   source_system_tab   object\n",
      " 3   source_screen_name  object\n",
      " 4   source_type         object\n",
      " 5   target              int64 \n",
      "dtypes: int64(1), object(5)\n",
      "memory usage: 337.7+ MB\n",
      "<class 'pandas.core.frame.DataFrame'>\n",
      "RangeIndex: 34403 entries, 0 to 34402\n",
      "Data columns (total 7 columns):\n",
      " #   Column                  Non-Null Count  Dtype \n",
      "---  ------                  --------------  ----- \n",
      " 0   msno                    34403 non-null  object\n",
      " 1   city                    34403 non-null  int64 \n",
      " 2   bd                      34403 non-null  int64 \n",
      " 3   gender                  14501 non-null  object\n",
      " 4   registered_via          34403 non-null  int64 \n",
      " 5   registration_init_time  34403 non-null  int64 \n",
      " 6   expiration_date         34403 non-null  int64 \n",
      "dtypes: int64(5), object(2)\n",
      "memory usage: 1.8+ MB\n",
      "None None None None\n"
     ]
    }
   ],
   "source": [
    "print(songs.info(),song_extra_info.info(),train.info(),members.info())"
   ]
  },
  {
   "cell_type": "code",
   "execution_count": 36,
   "id": "0520bed5",
   "metadata": {},
   "outputs": [
    {
     "name": "stdout",
     "output_type": "stream",
     "text": [
      "         song_id  song_length  genre_ids  artist_name  composer  lyricist  \\\n",
      "0          False        False      False        False     False     False   \n",
      "1          False        False      False        False     False     False   \n",
      "2          False        False      False        False      True      True   \n",
      "3          False        False      False        False     False     False   \n",
      "4          False        False      False        False     False     False   \n",
      "...          ...          ...        ...          ...       ...       ...   \n",
      "2296315    False        False      False        False     False      True   \n",
      "2296316    False        False      False        False      True      True   \n",
      "2296317    False        False      False        False      True      True   \n",
      "2296318    False        False      False        False      True      True   \n",
      "2296319    False        False      False        False      True      True   \n",
      "\n",
      "         language  \n",
      "0           False  \n",
      "1           False  \n",
      "2           False  \n",
      "3           False  \n",
      "4           False  \n",
      "...           ...  \n",
      "2296315     False  \n",
      "2296316     False  \n",
      "2296317     False  \n",
      "2296318     False  \n",
      "2296319     False  \n",
      "\n",
      "[2296320 rows x 7 columns]          song_id   name   isrc\n",
      "0          False  False  False\n",
      "1          False  False  False\n",
      "2          False  False  False\n",
      "3          False  False  False\n",
      "4          False  False  False\n",
      "...          ...    ...    ...\n",
      "2295966    False  False  False\n",
      "2295967    False  False  False\n",
      "2295968    False  False  False\n",
      "2295969    False  False  False\n",
      "2295970    False  False  False\n",
      "\n",
      "[2295971 rows x 3 columns]           msno  song_id  source_system_tab  source_screen_name  source_type  \\\n",
      "0        False    False              False               False        False   \n",
      "1        False    False              False               False        False   \n",
      "2        False    False              False               False        False   \n",
      "3        False    False              False               False        False   \n",
      "4        False    False              False               False        False   \n",
      "...        ...      ...                ...                 ...          ...   \n",
      "7377413  False    False              False               False        False   \n",
      "7377414  False    False              False               False        False   \n",
      "7377415  False    False              False               False        False   \n",
      "7377416  False    False              False               False        False   \n",
      "7377417  False    False              False               False        False   \n",
      "\n",
      "         target  \n",
      "0         False  \n",
      "1         False  \n",
      "2         False  \n",
      "3         False  \n",
      "4         False  \n",
      "...         ...  \n",
      "7377413   False  \n",
      "7377414   False  \n",
      "7377415   False  \n",
      "7377416   False  \n",
      "7377417   False  \n",
      "\n",
      "[7377418 rows x 6 columns]         msno   city     bd  gender  registered_via  registration_init_time  \\\n",
      "0      False  False  False    True           False                   False   \n",
      "1      False  False  False    True           False                   False   \n",
      "2      False  False  False    True           False                   False   \n",
      "3      False  False  False    True           False                   False   \n",
      "4      False  False  False    True           False                   False   \n",
      "...      ...    ...    ...     ...             ...                     ...   \n",
      "34398  False  False  False    True           False                   False   \n",
      "34399  False  False  False   False           False                   False   \n",
      "34400  False  False  False    True           False                   False   \n",
      "34401  False  False  False    True           False                   False   \n",
      "34402  False  False  False    True           False                   False   \n",
      "\n",
      "       expiration_date  \n",
      "0                False  \n",
      "1                False  \n",
      "2                False  \n",
      "3                False  \n",
      "4                False  \n",
      "...                ...  \n",
      "34398            False  \n",
      "34399            False  \n",
      "34400            False  \n",
      "34401            False  \n",
      "34402            False  \n",
      "\n",
      "[34403 rows x 7 columns]\n"
     ]
    }
   ],
   "source": [
    "print(songs.isnull(),song_extra_info.isnull(),train.isnull(),members.isnull())"
   ]
  },
  {
   "cell_type": "code",
   "execution_count": 37,
   "id": "1f5e81be",
   "metadata": {},
   "outputs": [
    {
     "name": "stdout",
     "output_type": "stream",
     "text": [
      "                                              song_id  song_length  \\\n",
      "0        CXoTN1eb7AI+DntdU1vbcwGRV4SCIDxZu+YD8JP8r4E=       247640   \n",
      "1        o0kFgae9QtnYgRkVPqLJwa05zIhRlUjfF7O1tDw0ZDU=       197328   \n",
      "3        dKMBWoZyScdxSkihKG+Vf47nc18N9q4m58+b4e7dSSE=       273554   \n",
      "4        W3bqWd3T+VeHFzHAUfARgW9AvVRaF4N5Yzm4Mr6Eo/o=       140329   \n",
      "5        kKJ2JNU5h8rphyW21ovC+RZU+yEHPM+3w85J37p7vEQ=       235520   \n",
      "...                                               ...          ...   \n",
      "2296273  G4CFe4RcqGuNFxZ+kxPrjsafx8+bI5kbjqy1pcKMyCY=       113684   \n",
      "2296294  LIBVFt9mqBUtZu911th7hIuQ6ecZJEZYr3k8drsqEGI=       309404   \n",
      "2296302  9w0/At83TBWVHIMHJsLWc4XkSt6rtQWrhgPS5VkDGBw=       167481   \n",
      "2296305  +HEDP6j6Pp6/uWt4yUtDnwVUdN/7yjSAxP/c2K8ff1A=       281077   \n",
      "2296307  zH1JEkk62Zn1a4cn89jNoNnKgPZ8jzQrlCu4+u/UC90=       235728   \n",
      "\n",
      "               genre_ids       artist_name  \\\n",
      "0                    465  張信哲 (Jeff Chang)   \n",
      "1                    444         BLACKPINK   \n",
      "3                    465             S.H.E   \n",
      "4                    726              貴族精選   \n",
      "5        864|857|850|843              貴族精選   \n",
      "...                  ...               ...   \n",
      "2296273              698   Various Artists   \n",
      "2296294              465            Mecano   \n",
      "2296302             1011     Kenny Chesney   \n",
      "2296305              465                欒生   \n",
      "2296307              359     Philip Selway   \n",
      "\n",
      "                                                composer  \\\n",
      "0                                                     董貞   \n",
      "1                     TEDDY|  FUTURE BOUNCE|  Bekuh BOOM   \n",
      "3                                                    湯小康   \n",
      "4                                            Traditional   \n",
      "5                                           Joe Hisaishi   \n",
      "...                                                  ...   \n",
      "2296273                              G.Autry| O.Haldeman   \n",
      "2296294                                     Ignacio Cano   \n",
      "2296302  Rodney Clawson| Vicky McGehee| David Lee Murphy   \n",
      "2296305                                               欒生   \n",
      "2296307                                    Philip Selway   \n",
      "\n",
      "                                                lyricist  language  \n",
      "0                                                    何啟弘       3.0  \n",
      "1                                                  TEDDY      31.0  \n",
      "3                                                    徐世珍       3.0  \n",
      "4                                            Traditional      52.0  \n",
      "5                                         Hayao Miyazaki      17.0  \n",
      "...                                                  ...       ...  \n",
      "2296273                              G.Autry| O.Haldeman      52.0  \n",
      "2296294                                     Ignacio Cano      52.0  \n",
      "2296302  Rodney Clawson| Vicky McGehee| David Lee Murphy      52.0  \n",
      "2296305                                               欒生       3.0  \n",
      "2296307                                    Philip Selway      52.0  \n",
      "\n",
      "[330443 rows x 7 columns]                                               song_id  \\\n",
      "0        LP7pLJoJFBvyuUwvu+oLzjT+bI+UeBPURCecJsX1jjs=   \n",
      "1        ClazTFnk6r0Bnuie44bocdNMM3rdlrq0bCGAsGUWcHE=   \n",
      "2        u2ja/bZE3zhCGxvbbOB3zOoUjx27u40cf5g09UXMoKQ=   \n",
      "3        92Fqsy0+p6+RHe2EoLKjHahORHR1Kq1TBJoClW9v+Ts=   \n",
      "4        0QFmz/+rJy1Q56C1DuYqT9hKKqi5TUqx0sN0IwvoHrw=   \n",
      "...                                               ...   \n",
      "2295966  hLnetpF6UbPg28sSfXnPE2vsdaGsLvddlXEdJR4VTIA=   \n",
      "2295967  N+6vJ8actKQm0S3Fpf4elipTjoAo9ev28aA5FJN5e40=   \n",
      "2295968  pv35uG0ts05mWtirM/AMOWEzbHxIVart5ZzRXqKUY1c=   \n",
      "2295969  QSySnm8jt2Go7byY34/PxsZP6dPCins2j2cyYquNhBo=   \n",
      "2295970  DYKJKSgDOKxb19XzOVO81176qTH0OIHCsfzFRm/BG+g=   \n",
      "\n",
      "                              name          isrc  \n",
      "0                               我們  TWUM71200043  \n",
      "1                  Let Me Love You  QMZSY1600015  \n",
      "2                              原諒我  TWA530887303  \n",
      "3                          Classic  USSM11301446  \n",
      "4                             愛投羅網  TWA471306001  \n",
      "...                            ...           ...  \n",
      "2295966             Deep Breathing  PLL431720793  \n",
      "2295967                  In Hiding  US5UL1519827  \n",
      "2295968  Il Est Ne Le Divin Enfant  PLL431502294  \n",
      "2295969            The Exodus Song  DEPZ69316095  \n",
      "2295970                  Like This  US5UL1512426  \n",
      "\n",
      "[2159422 rows x 3 columns]                                                  msno  \\\n",
      "0        FGtllVqz18RPiwJj/edr2gV78zirAiY/9SmYvia+kCg=   \n",
      "1        Xumu+NIjS6QYVxDS4/t3SawvJ7viT9hPKXmf0RtLNx8=   \n",
      "2        Xumu+NIjS6QYVxDS4/t3SawvJ7viT9hPKXmf0RtLNx8=   \n",
      "3        Xumu+NIjS6QYVxDS4/t3SawvJ7viT9hPKXmf0RtLNx8=   \n",
      "4        FGtllVqz18RPiwJj/edr2gV78zirAiY/9SmYvia+kCg=   \n",
      "...                                               ...   \n",
      "7377413  6xdFzPlrasIDD95mQWXVC3Bg4ptnGYtBl4ztVEZMddU=   \n",
      "7377414  ZxbVmt3Kh/XOH+h58c2Kdj6SjFZk+wnUO006IgWzMQE=   \n",
      "7377415  ZxbVmt3Kh/XOH+h58c2Kdj6SjFZk+wnUO006IgWzMQE=   \n",
      "7377416  0aH4Hd3ziPSRHClRX8rkeOEaAG5EPPkW1mKGCdXEok0=   \n",
      "7377417  0aH4Hd3ziPSRHClRX8rkeOEaAG5EPPkW1mKGCdXEok0=   \n",
      "\n",
      "                                              song_id source_system_tab  \\\n",
      "0        BBzumQNXUHKdEBOB7mAJuzok+IJA1c2Ryg/yzTF6tik=           explore   \n",
      "1        bhp/MpSNoqoxOIB+/l8WPqu6jldth4DIpCm3ayXnJqM=        my library   \n",
      "2        JNWfrrC7zNN7BdMpsISKa4Mw+xVJYNnxXh3/Epw7QgY=        my library   \n",
      "3        2A87tzfnJTSWqD7gIZHisolhe4DMdzkbd6LzO1KHjNs=        my library   \n",
      "4        3qm6XTZ6MOCU11x8FIVbAGH5l5uMkT3/ZalWG1oo2Gc=           explore   \n",
      "...                                               ...               ...   \n",
      "7377413  VJTxizih/o28kXCbtPbIyWXScoXGvxyYtl6R+0YB5JM=        my library   \n",
      "7377414  z1mqaU9YOX7T/PFDvUoWozdFq7rC3KwaQP7nFVprjMI=            search   \n",
      "7377415  750RprmFfLV0bymtDH88g24pLZGVi5VpBAI300P6UOA=            search   \n",
      "7377416  G8wgqObgeAMER/rVCIlgcNeQ8mm0CzF/GsxiMK8TTnA=          discover   \n",
      "7377417  Ju0VGkjWeBUZCd7r5Az2hUImhMoWxWLUicOedsmvG0g=          discover   \n",
      "\n",
      "          source_screen_name      source_type  target  \n",
      "0                    Explore  online-playlist       1  \n",
      "1        Local playlist more   local-playlist       1  \n",
      "2        Local playlist more   local-playlist       1  \n",
      "3        Local playlist more   local-playlist       1  \n",
      "4                    Explore  online-playlist       1  \n",
      "...                      ...              ...     ...  \n",
      "7377413  Local playlist more   local-playlist       1  \n",
      "7377414               Search             song       0  \n",
      "7377415               Search             song       1  \n",
      "7377416       Discover Genre  online-playlist       1  \n",
      "7377417       Discover Genre  online-playlist       1  \n",
      "\n",
      "[6959297 rows x 6 columns]                                                msno  city  bd  gender  \\\n",
      "5      zgPOEyUn5a/Fvuzb3m69ajzxjkbblVtObglW89FzLdo=    13  43  female   \n",
      "10     GoFYKhcq8Q5Gjz1M5L0azHZOhcY+Za/T7fRqIGgBuYA=    12  28    male   \n",
      "13     RoSfblbwJN/izEnFIVw8TgOpm8R/NEpUC84Oz/b32HQ=    15  33  female   \n",
      "15     vUzJAyFEudsnkWwfcLIKT5mJAV+uVRTW2uajCrghFwI=    13  20    male   \n",
      "16     Ev+ouoRTpAjrtxNVeThP6t9xnDG1puQaG28DvJ2db+A=    13  30    male   \n",
      "...                                             ...   ...  ..     ...   \n",
      "34392  MztOLNMRfOazE4FOBfQPUAoCSkaXJzI/42gRSwm0+hE=    22  43    male   \n",
      "34393  b2sH2FEdfr+2iyi3FlbQ3aMQwSmx/Mu0QLQHy7PinLA=     4  19    male   \n",
      "34394  gwRDIcbF3glSxxzs0ReSAhL5qezHN2Z4MMr29IBxeDo=    18  10    male   \n",
      "34396  UUpdbYb6xeTNAt7dz8EQ7MNOpwH+gk9jMpIx5Hh/WI0=    13  25  female   \n",
      "34399  g3JGnJX6Hg50lFbrNWfsHwCUmApIkiv2M8sXOaeXoIQ=     4  18    male   \n",
      "\n",
      "       registered_via  registration_init_time  expiration_date  \n",
      "5                   9                20120703         20171006  \n",
      "10                  9                20060531         20170816  \n",
      "13                  3                20150915         20171019  \n",
      "15                  3                20140410         20170427  \n",
      "16                  9                20070330         20170612  \n",
      "...               ...                     ...              ...  \n",
      "34392               9                20090830         20170915  \n",
      "34393               9                20150625         20170915  \n",
      "34394               9                20080301         20170930  \n",
      "34396               3                20120104         20170611  \n",
      "34399               3                20141024         20170518  \n",
      "\n",
      "[14501 rows x 7 columns]\n"
     ]
    }
   ],
   "source": [
    "print(songs.dropna(),song_extra_info.dropna(),train.dropna(),members.dropna())"
   ]
  },
  {
   "cell_type": "code",
   "execution_count": 39,
   "id": "dd0e8e92",
   "metadata": {},
   "outputs": [
    {
     "name": "stdout",
     "output_type": "stream",
     "text": [
      "                                              song_id  song_length genre_ids  \\\n",
      "0        CXoTN1eb7AI+DntdU1vbcwGRV4SCIDxZu+YD8JP8r4E=       247640       465   \n",
      "1        o0kFgae9QtnYgRkVPqLJwa05zIhRlUjfF7O1tDw0ZDU=       197328       444   \n",
      "2        DwVvVurfpuz+XPuFvucclVQEyPqcpUkHR0ne1RQzPs0=       231781       465   \n",
      "3        dKMBWoZyScdxSkihKG+Vf47nc18N9q4m58+b4e7dSSE=       273554       465   \n",
      "4        W3bqWd3T+VeHFzHAUfARgW9AvVRaF4N5Yzm4Mr6Eo/o=       140329       726   \n",
      "...                                               ...          ...       ...   \n",
      "2296315  lg6rn7eV/ZNg0+P+x77kHUL7GDMfoL4eMtXxncseLNA=        20192       958   \n",
      "2296316  nXi1lrSJe+gLoTTNky7If0mNPrIyCQCLwagwR6XopGU=       273391       465   \n",
      "2296317  9KxSvIjbJyJzfEVWnkMbgR6dyn6d54ot0N5FKyKqii8=       445172      1609   \n",
      "2296318  UO8Y2MR2sjOn2q/Tp8/lzZTGKmLEvwZ20oWanG4XnYc=       172669       465   \n",
      "2296319  V/9qPSUOGT0FeIGBhDIZRRz5Y5yyjdXC2Z/+bJExo5s=       270466       829   \n",
      "\n",
      "               artist_name                            composer     lyricist  \\\n",
      "0         張信哲 (Jeff Chang)                                  董貞          何啟弘   \n",
      "1                BLACKPINK  TEDDY|  FUTURE BOUNCE|  Bekuh BOOM        TEDDY   \n",
      "2             SUPER JUNIOR                                 0.0          0.0   \n",
      "3                    S.H.E                                 湯小康          徐世珍   \n",
      "4                     貴族精選                         Traditional  Traditional   \n",
      "...                    ...                                 ...          ...   \n",
      "2296315  Catherine Collard         Robert Schumann (1810-1856)          0.0   \n",
      "2296316  紀文惠 (Justine Chi)                                 0.0          0.0   \n",
      "2296317    Various Artists                                 0.0          0.0   \n",
      "2296318  Peter Paul & Mary                                 0.0          0.0   \n",
      "2296319      Kim Robertson                                 0.0          0.0   \n",
      "\n",
      "         language  \n",
      "0             3.0  \n",
      "1            31.0  \n",
      "2            31.0  \n",
      "3             3.0  \n",
      "4            52.0  \n",
      "...           ...  \n",
      "2296315      -1.0  \n",
      "2296316       3.0  \n",
      "2296317      52.0  \n",
      "2296318      52.0  \n",
      "2296319      52.0  \n",
      "\n",
      "[2296320 rows x 7 columns]                                               song_id  \\\n",
      "0        LP7pLJoJFBvyuUwvu+oLzjT+bI+UeBPURCecJsX1jjs=   \n",
      "1        ClazTFnk6r0Bnuie44bocdNMM3rdlrq0bCGAsGUWcHE=   \n",
      "2        u2ja/bZE3zhCGxvbbOB3zOoUjx27u40cf5g09UXMoKQ=   \n",
      "3        92Fqsy0+p6+RHe2EoLKjHahORHR1Kq1TBJoClW9v+Ts=   \n",
      "4        0QFmz/+rJy1Q56C1DuYqT9hKKqi5TUqx0sN0IwvoHrw=   \n",
      "...                                               ...   \n",
      "2295966  hLnetpF6UbPg28sSfXnPE2vsdaGsLvddlXEdJR4VTIA=   \n",
      "2295967  N+6vJ8actKQm0S3Fpf4elipTjoAo9ev28aA5FJN5e40=   \n",
      "2295968  pv35uG0ts05mWtirM/AMOWEzbHxIVart5ZzRXqKUY1c=   \n",
      "2295969  QSySnm8jt2Go7byY34/PxsZP6dPCins2j2cyYquNhBo=   \n",
      "2295970  DYKJKSgDOKxb19XzOVO81176qTH0OIHCsfzFRm/BG+g=   \n",
      "\n",
      "                              name          isrc  \n",
      "0                               我們  TWUM71200043  \n",
      "1                  Let Me Love You  QMZSY1600015  \n",
      "2                              原諒我  TWA530887303  \n",
      "3                          Classic  USSM11301446  \n",
      "4                             愛投羅網  TWA471306001  \n",
      "...                            ...           ...  \n",
      "2295966             Deep Breathing  PLL431720793  \n",
      "2295967                  In Hiding  US5UL1519827  \n",
      "2295968  Il Est Ne Le Divin Enfant  PLL431502294  \n",
      "2295969            The Exodus Song  DEPZ69316095  \n",
      "2295970                  Like This  US5UL1512426  \n",
      "\n",
      "[2295971 rows x 3 columns]                                                  msno  \\\n",
      "0        FGtllVqz18RPiwJj/edr2gV78zirAiY/9SmYvia+kCg=   \n",
      "1        Xumu+NIjS6QYVxDS4/t3SawvJ7viT9hPKXmf0RtLNx8=   \n",
      "2        Xumu+NIjS6QYVxDS4/t3SawvJ7viT9hPKXmf0RtLNx8=   \n",
      "3        Xumu+NIjS6QYVxDS4/t3SawvJ7viT9hPKXmf0RtLNx8=   \n",
      "4        FGtllVqz18RPiwJj/edr2gV78zirAiY/9SmYvia+kCg=   \n",
      "...                                               ...   \n",
      "7377413  6xdFzPlrasIDD95mQWXVC3Bg4ptnGYtBl4ztVEZMddU=   \n",
      "7377414  ZxbVmt3Kh/XOH+h58c2Kdj6SjFZk+wnUO006IgWzMQE=   \n",
      "7377415  ZxbVmt3Kh/XOH+h58c2Kdj6SjFZk+wnUO006IgWzMQE=   \n",
      "7377416  0aH4Hd3ziPSRHClRX8rkeOEaAG5EPPkW1mKGCdXEok0=   \n",
      "7377417  0aH4Hd3ziPSRHClRX8rkeOEaAG5EPPkW1mKGCdXEok0=   \n",
      "\n",
      "                                              song_id source_system_tab  \\\n",
      "0        BBzumQNXUHKdEBOB7mAJuzok+IJA1c2Ryg/yzTF6tik=           explore   \n",
      "1        bhp/MpSNoqoxOIB+/l8WPqu6jldth4DIpCm3ayXnJqM=        my library   \n",
      "2        JNWfrrC7zNN7BdMpsISKa4Mw+xVJYNnxXh3/Epw7QgY=        my library   \n",
      "3        2A87tzfnJTSWqD7gIZHisolhe4DMdzkbd6LzO1KHjNs=        my library   \n",
      "4        3qm6XTZ6MOCU11x8FIVbAGH5l5uMkT3/ZalWG1oo2Gc=           explore   \n",
      "...                                               ...               ...   \n",
      "7377413  VJTxizih/o28kXCbtPbIyWXScoXGvxyYtl6R+0YB5JM=        my library   \n",
      "7377414  z1mqaU9YOX7T/PFDvUoWozdFq7rC3KwaQP7nFVprjMI=            search   \n",
      "7377415  750RprmFfLV0bymtDH88g24pLZGVi5VpBAI300P6UOA=            search   \n",
      "7377416  G8wgqObgeAMER/rVCIlgcNeQ8mm0CzF/GsxiMK8TTnA=          discover   \n",
      "7377417  Ju0VGkjWeBUZCd7r5Az2hUImhMoWxWLUicOedsmvG0g=          discover   \n",
      "\n",
      "          source_screen_name      source_type  target  \n",
      "0                    Explore  online-playlist       1  \n",
      "1        Local playlist more   local-playlist       1  \n",
      "2        Local playlist more   local-playlist       1  \n",
      "3        Local playlist more   local-playlist       1  \n",
      "4                    Explore  online-playlist       1  \n",
      "...                      ...              ...     ...  \n",
      "7377413  Local playlist more   local-playlist       1  \n",
      "7377414               Search             song       0  \n",
      "7377415               Search             song       1  \n",
      "7377416       Discover Genre  online-playlist       1  \n",
      "7377417       Discover Genre  online-playlist       1  \n",
      "\n",
      "[7377418 rows x 6 columns]                                                msno  city  bd gender  \\\n",
      "0      XQxgAYj3klVKjR3oxPPXYYFp4soD4TuBghkhMTD4oTw=     1   0    0.0   \n",
      "1      UizsfmJb9mV54qE9hCYyU07Va97c0lCRLEQX3ae+ztM=     1   0    0.0   \n",
      "2      D8nEhsIOBSoE6VthTaqDX8U6lqjJ7dLdr72mOyLya2A=     1   0    0.0   \n",
      "3      mCuD+tZ1hERA/o5GPqk38e041J8ZsBaLcu7nGoIIvhI=     1   0    0.0   \n",
      "4      q4HRBfVSssAFS9iRfxWrohxuk9kCYMKjHOEagUMV6rQ=     1   0    0.0   \n",
      "...                                             ...   ...  ..    ...   \n",
      "34398  Wwd/cudKVuLJ3txRVxlg2Zaeliu+LRUfiBmfrnxhRCY=     1   0    0.0   \n",
      "34399  g3JGnJX6Hg50lFbrNWfsHwCUmApIkiv2M8sXOaeXoIQ=     4  18   male   \n",
      "34400  IMaPMJuyN+ip9Vqi+z2XuXbFAP2kbHr+EvvCNkFfj+o=     1   0    0.0   \n",
      "34401  WAnCAJjUty9Stv8yKtV7ZC7PN+ilOy5FX3aIJgGPANM=     1   0    0.0   \n",
      "34402  xH8KpzKGeNNq6dOvy51c/8VzqOiGG+m6vabhsPSDHX4=     1   0    0.0   \n",
      "\n",
      "       registered_via  registration_init_time  expiration_date  \n",
      "0                   7                20110820         20170920  \n",
      "1                   7                20150628         20170622  \n",
      "2                   4                20160411         20170712  \n",
      "3                   9                20150906         20150907  \n",
      "4                   4                20170126         20170613  \n",
      "...               ...                     ...              ...  \n",
      "34398               7                20131111         20170910  \n",
      "34399               3                20141024         20170518  \n",
      "34400               7                20130802         20170908  \n",
      "34401               7                20151020         20170920  \n",
      "34402               4                20160815         20160818  \n",
      "\n",
      "[34403 rows x 7 columns]\n"
     ]
    }
   ],
   "source": [
    "#Replacing Values\n",
    "from numpy import NaN\n",
    "print(songs.replace({NaN:0.00}),song_extra_info.replace({NaN:0.00}),train.replace({NaN:0.00}),members.replace({NaN:0.00}))"
   ]
  },
  {
   "cell_type": "markdown",
   "id": "1381d3a7",
   "metadata": {},
   "source": [
    "# Filling Values"
   ]
  },
  {
   "cell_type": "code",
   "execution_count": 41,
   "id": "b9aeced5",
   "metadata": {},
   "outputs": [
    {
     "name": "stdout",
     "output_type": "stream",
     "text": [
      "                                              song_id  song_length genre_ids  \\\n",
      "0        CXoTN1eb7AI+DntdU1vbcwGRV4SCIDxZu+YD8JP8r4E=       247640       465   \n",
      "1        o0kFgae9QtnYgRkVPqLJwa05zIhRlUjfF7O1tDw0ZDU=       197328       444   \n",
      "2        DwVvVurfpuz+XPuFvucclVQEyPqcpUkHR0ne1RQzPs0=       231781       465   \n",
      "3        dKMBWoZyScdxSkihKG+Vf47nc18N9q4m58+b4e7dSSE=       273554       465   \n",
      "4        W3bqWd3T+VeHFzHAUfARgW9AvVRaF4N5Yzm4Mr6Eo/o=       140329       726   \n",
      "...                                               ...          ...       ...   \n",
      "2296315  lg6rn7eV/ZNg0+P+x77kHUL7GDMfoL4eMtXxncseLNA=        20192       958   \n",
      "2296316  nXi1lrSJe+gLoTTNky7If0mNPrIyCQCLwagwR6XopGU=       273391       465   \n",
      "2296317  9KxSvIjbJyJzfEVWnkMbgR6dyn6d54ot0N5FKyKqii8=       445172      1609   \n",
      "2296318  UO8Y2MR2sjOn2q/Tp8/lzZTGKmLEvwZ20oWanG4XnYc=       172669       465   \n",
      "2296319  V/9qPSUOGT0FeIGBhDIZRRz5Y5yyjdXC2Z/+bJExo5s=       270466       829   \n",
      "\n",
      "               artist_name                            composer     lyricist  \\\n",
      "0         張信哲 (Jeff Chang)                                  董貞          何啟弘   \n",
      "1                BLACKPINK  TEDDY|  FUTURE BOUNCE|  Bekuh BOOM        TEDDY   \n",
      "2             SUPER JUNIOR                                   3            3   \n",
      "3                    S.H.E                                 湯小康          徐世珍   \n",
      "4                     貴族精選                         Traditional  Traditional   \n",
      "...                    ...                                 ...          ...   \n",
      "2296315  Catherine Collard         Robert Schumann (1810-1856)            3   \n",
      "2296316  紀文惠 (Justine Chi)                                   3            3   \n",
      "2296317    Various Artists                                   3            3   \n",
      "2296318  Peter Paul & Mary                                   3            3   \n",
      "2296319      Kim Robertson                                   3            3   \n",
      "\n",
      "         language  \n",
      "0             3.0  \n",
      "1            31.0  \n",
      "2            31.0  \n",
      "3             3.0  \n",
      "4            52.0  \n",
      "...           ...  \n",
      "2296315      -1.0  \n",
      "2296316       3.0  \n",
      "2296317      52.0  \n",
      "2296318      52.0  \n",
      "2296319      52.0  \n",
      "\n",
      "[2296320 rows x 7 columns]                                               song_id  \\\n",
      "0        LP7pLJoJFBvyuUwvu+oLzjT+bI+UeBPURCecJsX1jjs=   \n",
      "1        ClazTFnk6r0Bnuie44bocdNMM3rdlrq0bCGAsGUWcHE=   \n",
      "2        u2ja/bZE3zhCGxvbbOB3zOoUjx27u40cf5g09UXMoKQ=   \n",
      "3        92Fqsy0+p6+RHe2EoLKjHahORHR1Kq1TBJoClW9v+Ts=   \n",
      "4        0QFmz/+rJy1Q56C1DuYqT9hKKqi5TUqx0sN0IwvoHrw=   \n",
      "...                                               ...   \n",
      "2295966  hLnetpF6UbPg28sSfXnPE2vsdaGsLvddlXEdJR4VTIA=   \n",
      "2295967  N+6vJ8actKQm0S3Fpf4elipTjoAo9ev28aA5FJN5e40=   \n",
      "2295968  pv35uG0ts05mWtirM/AMOWEzbHxIVart5ZzRXqKUY1c=   \n",
      "2295969  QSySnm8jt2Go7byY34/PxsZP6dPCins2j2cyYquNhBo=   \n",
      "2295970  DYKJKSgDOKxb19XzOVO81176qTH0OIHCsfzFRm/BG+g=   \n",
      "\n",
      "                              name          isrc  \n",
      "0                               我們  TWUM71200043  \n",
      "1                  Let Me Love You  QMZSY1600015  \n",
      "2                              原諒我  TWA530887303  \n",
      "3                          Classic  USSM11301446  \n",
      "4                             愛投羅網  TWA471306001  \n",
      "...                            ...           ...  \n",
      "2295966             Deep Breathing  PLL431720793  \n",
      "2295967                  In Hiding  US5UL1519827  \n",
      "2295968  Il Est Ne Le Divin Enfant  PLL431502294  \n",
      "2295969            The Exodus Song  DEPZ69316095  \n",
      "2295970                  Like This  US5UL1512426  \n",
      "\n",
      "[2295971 rows x 3 columns]                                                  msno  \\\n",
      "0        FGtllVqz18RPiwJj/edr2gV78zirAiY/9SmYvia+kCg=   \n",
      "1        Xumu+NIjS6QYVxDS4/t3SawvJ7viT9hPKXmf0RtLNx8=   \n",
      "2        Xumu+NIjS6QYVxDS4/t3SawvJ7viT9hPKXmf0RtLNx8=   \n",
      "3        Xumu+NIjS6QYVxDS4/t3SawvJ7viT9hPKXmf0RtLNx8=   \n",
      "4        FGtllVqz18RPiwJj/edr2gV78zirAiY/9SmYvia+kCg=   \n",
      "...                                               ...   \n",
      "7377413  6xdFzPlrasIDD95mQWXVC3Bg4ptnGYtBl4ztVEZMddU=   \n",
      "7377414  ZxbVmt3Kh/XOH+h58c2Kdj6SjFZk+wnUO006IgWzMQE=   \n",
      "7377415  ZxbVmt3Kh/XOH+h58c2Kdj6SjFZk+wnUO006IgWzMQE=   \n",
      "7377416  0aH4Hd3ziPSRHClRX8rkeOEaAG5EPPkW1mKGCdXEok0=   \n",
      "7377417  0aH4Hd3ziPSRHClRX8rkeOEaAG5EPPkW1mKGCdXEok0=   \n",
      "\n",
      "                                              song_id source_system_tab  \\\n",
      "0        BBzumQNXUHKdEBOB7mAJuzok+IJA1c2Ryg/yzTF6tik=           explore   \n",
      "1        bhp/MpSNoqoxOIB+/l8WPqu6jldth4DIpCm3ayXnJqM=        my library   \n",
      "2        JNWfrrC7zNN7BdMpsISKa4Mw+xVJYNnxXh3/Epw7QgY=        my library   \n",
      "3        2A87tzfnJTSWqD7gIZHisolhe4DMdzkbd6LzO1KHjNs=        my library   \n",
      "4        3qm6XTZ6MOCU11x8FIVbAGH5l5uMkT3/ZalWG1oo2Gc=           explore   \n",
      "...                                               ...               ...   \n",
      "7377413  VJTxizih/o28kXCbtPbIyWXScoXGvxyYtl6R+0YB5JM=        my library   \n",
      "7377414  z1mqaU9YOX7T/PFDvUoWozdFq7rC3KwaQP7nFVprjMI=            search   \n",
      "7377415  750RprmFfLV0bymtDH88g24pLZGVi5VpBAI300P6UOA=            search   \n",
      "7377416  G8wgqObgeAMER/rVCIlgcNeQ8mm0CzF/GsxiMK8TTnA=          discover   \n",
      "7377417  Ju0VGkjWeBUZCd7r5Az2hUImhMoWxWLUicOedsmvG0g=          discover   \n",
      "\n",
      "          source_screen_name      source_type  target  \n",
      "0                    Explore  online-playlist       1  \n",
      "1        Local playlist more   local-playlist       1  \n",
      "2        Local playlist more   local-playlist       1  \n",
      "3        Local playlist more   local-playlist       1  \n",
      "4                    Explore  online-playlist       1  \n",
      "...                      ...              ...     ...  \n",
      "7377413  Local playlist more   local-playlist       1  \n",
      "7377414               Search             song       0  \n",
      "7377415               Search             song       1  \n",
      "7377416       Discover Genre  online-playlist       1  \n",
      "7377417       Discover Genre  online-playlist       1  \n",
      "\n",
      "[7377418 rows x 6 columns]                                                msno  city  bd gender  \\\n",
      "0      XQxgAYj3klVKjR3oxPPXYYFp4soD4TuBghkhMTD4oTw=     1   0     44   \n",
      "1      UizsfmJb9mV54qE9hCYyU07Va97c0lCRLEQX3ae+ztM=     1   0     44   \n",
      "2      D8nEhsIOBSoE6VthTaqDX8U6lqjJ7dLdr72mOyLya2A=     1   0     44   \n",
      "3      mCuD+tZ1hERA/o5GPqk38e041J8ZsBaLcu7nGoIIvhI=     1   0     44   \n",
      "4      q4HRBfVSssAFS9iRfxWrohxuk9kCYMKjHOEagUMV6rQ=     1   0     44   \n",
      "...                                             ...   ...  ..    ...   \n",
      "34398  Wwd/cudKVuLJ3txRVxlg2Zaeliu+LRUfiBmfrnxhRCY=     1   0     44   \n",
      "34399  g3JGnJX6Hg50lFbrNWfsHwCUmApIkiv2M8sXOaeXoIQ=     4  18   male   \n",
      "34400  IMaPMJuyN+ip9Vqi+z2XuXbFAP2kbHr+EvvCNkFfj+o=     1   0     44   \n",
      "34401  WAnCAJjUty9Stv8yKtV7ZC7PN+ilOy5FX3aIJgGPANM=     1   0     44   \n",
      "34402  xH8KpzKGeNNq6dOvy51c/8VzqOiGG+m6vabhsPSDHX4=     1   0     44   \n",
      "\n",
      "       registered_via  registration_init_time  expiration_date  \n",
      "0                   7                20110820         20170920  \n",
      "1                   7                20150628         20170622  \n",
      "2                   4                20160411         20170712  \n",
      "3                   9                20150906         20150907  \n",
      "4                   4                20170126         20170613  \n",
      "...               ...                     ...              ...  \n",
      "34398               7                20131111         20170910  \n",
      "34399               3                20141024         20170518  \n",
      "34400               7                20130802         20170908  \n",
      "34401               7                20151020         20170920  \n",
      "34402               4                20160815         20160818  \n",
      "\n",
      "[34403 rows x 7 columns]\n"
     ]
    }
   ],
   "source": [
    "print(songs.fillna(3),song_extra_info.fillna(988),train.fillna(6),members.fillna(44))"
   ]
  },
  {
   "cell_type": "markdown",
   "id": "991c591c",
   "metadata": {},
   "source": [
    "# Displaying the shape"
   ]
  },
  {
   "cell_type": "code",
   "execution_count": 25,
   "id": "6ea0bc16",
   "metadata": {},
   "outputs": [
    {
     "name": "stdout",
     "output_type": "stream",
     "text": [
      "Rows: 2296320 Cols: 7\n",
      "Rows: 2295971 Cols: 3\n",
      "Rows: 7377418 Cols: 6\n",
      "Rows: 34403 Cols: 7\n"
     ]
    }
   ],
   "source": [
    "print(\"Rows:\",songs.shape[0],\"Cols:\",songs.shape[1]) \n",
    "print(\"Rows:\",song_extra_info.shape[0],\"Cols:\",song_extra_info.shape[1])\n",
    "print(\"Rows:\",train.shape[0],\"Cols:\",train.shape[1]) \n",
    "print(\"Rows:\",members.shape[0],\"Cols:\",members.shape[1])"
   ]
  },
  {
   "cell_type": "markdown",
   "id": "fda7bc17",
   "metadata": {},
   "source": [
    "# EDA OF DATASETS"
   ]
  },
  {
   "cell_type": "code",
   "execution_count": 28,
   "id": "00fb4001",
   "metadata": {},
   "outputs": [
    {
     "name": "stdout",
     "output_type": "stream",
     "text": [
      "<class 'pandas.core.frame.DataFrame'>\n",
      "RangeIndex: 2296320 entries, 0 to 2296319\n",
      "Data columns (total 7 columns):\n",
      " #   Column       Dtype  \n",
      "---  ------       -----  \n",
      " 0   song_id      object \n",
      " 1   song_length  int64  \n",
      " 2   genre_ids    object \n",
      " 3   artist_name  object \n",
      " 4   composer     object \n",
      " 5   lyricist     object \n",
      " 6   language     float64\n",
      "dtypes: float64(1), int64(1), object(5)\n",
      "memory usage: 122.6+ MB\n"
     ]
    }
   ],
   "source": [
    "songs.info()"
   ]
  },
  {
   "cell_type": "code",
   "execution_count": 29,
   "id": "bbf75394",
   "metadata": {},
   "outputs": [
    {
     "data": {
      "text/html": [
       "<div>\n",
       "<style scoped>\n",
       "    .dataframe tbody tr th:only-of-type {\n",
       "        vertical-align: middle;\n",
       "    }\n",
       "\n",
       "    .dataframe tbody tr th {\n",
       "        vertical-align: top;\n",
       "    }\n",
       "\n",
       "    .dataframe thead th {\n",
       "        text-align: right;\n",
       "    }\n",
       "</style>\n",
       "<table border=\"1\" class=\"dataframe\">\n",
       "  <thead>\n",
       "    <tr style=\"text-align: right;\">\n",
       "      <th></th>\n",
       "      <th>song_length</th>\n",
       "      <th>language</th>\n",
       "    </tr>\n",
       "  </thead>\n",
       "  <tbody>\n",
       "    <tr>\n",
       "      <th>count</th>\n",
       "      <td>2.296320e+06</td>\n",
       "      <td>2.296319e+06</td>\n",
       "    </tr>\n",
       "    <tr>\n",
       "      <th>mean</th>\n",
       "      <td>2.469935e+05</td>\n",
       "      <td>3.237800e+01</td>\n",
       "    </tr>\n",
       "    <tr>\n",
       "      <th>std</th>\n",
       "      <td>1.609200e+05</td>\n",
       "      <td>2.433241e+01</td>\n",
       "    </tr>\n",
       "    <tr>\n",
       "      <th>min</th>\n",
       "      <td>1.850000e+02</td>\n",
       "      <td>-1.000000e+00</td>\n",
       "    </tr>\n",
       "    <tr>\n",
       "      <th>25%</th>\n",
       "      <td>1.836000e+05</td>\n",
       "      <td>-1.000000e+00</td>\n",
       "    </tr>\n",
       "    <tr>\n",
       "      <th>50%</th>\n",
       "      <td>2.266270e+05</td>\n",
       "      <td>5.200000e+01</td>\n",
       "    </tr>\n",
       "    <tr>\n",
       "      <th>75%</th>\n",
       "      <td>2.772690e+05</td>\n",
       "      <td>5.200000e+01</td>\n",
       "    </tr>\n",
       "    <tr>\n",
       "      <th>max</th>\n",
       "      <td>1.217385e+07</td>\n",
       "      <td>5.900000e+01</td>\n",
       "    </tr>\n",
       "  </tbody>\n",
       "</table>\n",
       "</div>"
      ],
      "text/plain": [
       "        song_length      language\n",
       "count  2.296320e+06  2.296319e+06\n",
       "mean   2.469935e+05  3.237800e+01\n",
       "std    1.609200e+05  2.433241e+01\n",
       "min    1.850000e+02 -1.000000e+00\n",
       "25%    1.836000e+05 -1.000000e+00\n",
       "50%    2.266270e+05  5.200000e+01\n",
       "75%    2.772690e+05  5.200000e+01\n",
       "max    1.217385e+07  5.900000e+01"
      ]
     },
     "execution_count": 29,
     "metadata": {},
     "output_type": "execute_result"
    }
   ],
   "source": [
    "songs.describe()"
   ]
  },
  {
   "cell_type": "code",
   "execution_count": 30,
   "id": "3ad5f9f2",
   "metadata": {},
   "outputs": [
    {
     "data": {
      "text/plain": [
       "0"
      ]
     },
     "execution_count": 30,
     "metadata": {},
     "output_type": "execute_result"
    }
   ],
   "source": [
    "songs.duplicated().sum()"
   ]
  },
  {
   "cell_type": "code",
   "execution_count": 34,
   "id": "e3923c40",
   "metadata": {},
   "outputs": [
    {
     "name": "stdout",
     "output_type": "stream",
     "text": [
      "[ 3. 31. 52. 17. 10. -1. 24. 59. 45. 38. nan]\n",
      "['online-playlist' 'local-playlist' 'local-library' 'top-hits-for-artist'\n",
      " 'album' nan 'song-based-playlist' 'radio' 'song' 'listen-with' 'artist'\n",
      " 'topic-article-playlist' 'my-daily-playlist']\n",
      "[nan 'female' 'male']\n"
     ]
    }
   ],
   "source": [
    "print(songs['language'].unique()) \n",
    "\n",
    "print(train['source_type'].unique())\n",
    "\n",
    "print(members['gender'].unique())"
   ]
  },
  {
   "cell_type": "code",
   "execution_count": 10,
   "id": "6c35ac13",
   "metadata": {},
   "outputs": [
    {
     "data": {
      "text/plain": [
       "<Figure size 1296x1152 with 0 Axes>"
      ]
     },
     "metadata": {},
     "output_type": "display_data"
    },
    {
     "data": {
      "image/png": "[encoded data removed]",
      "text/plain": [
       "<Figure size 1140.62x360 with 1 Axes>"
      ]
     },
     "metadata": {},
     "output_type": "display_data"
    }
   ],
   "source": [
    "plt.figure(figsize=(18,16))\n",
    "sns.displot(\n",
    "    data=train.isna().melt(value_name=\"missing\"),\n",
    "    y=\"variable\",\n",
    "    hue=\"missing\",\n",
    "    multiple=\"fill\",\n",
    "    aspect=3,\n",
    "    palette='copper' \n",
    ")\n",
    "plt.title('Bar plot showing Non-Missing Values in Train data', weight = 'bold', size = 20, color = 'brown')\n",
    "plt.xlabel(\" \")\n",
    "plt.ylabel(\" \")\n",
    "plt.xticks(size = 12, weight = 'bold', color = 'maroon')\n",
    "plt.yticks(size = 12, weight = 'bold', color = 'maroon');"
   ]
  },
  {
   "cell_type": "code",
   "execution_count": 11,
   "id": "751c21be",
   "metadata": {},
   "outputs": [
    {
     "data": {
      "image/png": "[encoded data removed]",
      "text/plain": [
       "<Figure size 1296x720 with 2 Axes>"
      ]
     },
     "metadata": {},
     "output_type": "display_data"
    }
   ],
   "source": [
    "plt.figure(figsize=(18,10))\n",
    "sns.heatmap(train.isna().transpose(),\n",
    "            cmap=\"copper\",\n",
    "            cbar_kws={'label': 'Missing Data'})\n",
    "plt.title('Heatmap showing Missing Values in Train data', weight = 'bold', size = 20, color = 'brown')\n",
    "plt.xticks(size = 12, color = 'maroon')\n",
    "plt.yticks(size = 12, color = 'maroon')\n",
    "plt.show();"
   ]
  },
  {
   "cell_type": "markdown",
   "id": "26716c15",
   "metadata": {},
   "source": [
    "# Counts of missing values in members vs song_extra_info"
   ]
  },
  {
   "cell_type": "code",
   "execution_count": 8,
   "id": "bad2c28e",
   "metadata": {},
   "outputs": [
    {
     "data": {
      "image/png": "[encoded data removed]",
      "text/plain": [
       "<Figure size 720x576 with 1 Axes>"
      ]
     },
     "metadata": {
      "needs_background": "light"
     },
     "output_type": "display_data"
    }
   ],
   "source": [
    "ncounts = pd.DataFrame([members.isna().mean(), song_extra_info.isna().mean()]).T\n",
    "ncounts = ncounts.rename(columns={0: \"members_missing\", 1: \"song_extra_info_missing\"})\n",
    "\n",
    "ncounts.query(\"members_missing > 0\").plot(\n",
    "    kind=\"barh\", figsize=(10, 8), title=\"% of Values Missing\"\n",
    ")\n",
    "plt.show()"
   ]
  },
  {
   "cell_type": "code",
   "execution_count": 4,
   "id": "ed847ae4",
   "metadata": {},
   "outputs": [
    {
     "data": {
      "image/png": "[encoded data removed]",
      "text/plain": [
       "<Figure size 432x288 with 1 Axes>"
      ]
     },
     "metadata": {
      "needs_background": "light"
     },
     "output_type": "display_data"
    }
   ],
   "source": [
    "song_extra_info.dropna(inplace = True)\n",
    "song_extra_info.isnull().sum().plot.bar()\n",
    "plt.show()"
   ]
  },
  {
   "cell_type": "code",
   "execution_count": 5,
   "id": "3a85ecc4",
   "metadata": {},
   "outputs": [],
   "source": [
    "song_extra_info = song_extra_info.drop(['song_id', 'isrc'], axis = 1)\n"
   ]
  },
  {
   "cell_type": "code",
   "execution_count": 3,
   "id": "55ff6fff",
   "metadata": {},
   "outputs": [
    {
     "data": {
      "text/plain": [
       "1"
      ]
     },
     "execution_count": 3,
     "metadata": {},
     "output_type": "execute_result"
    }
   ],
   "source": [
    "floats = []\n",
    "for col in songs.columns:\n",
    "    if songs[col].dtype == 'float':\n",
    "        floats.append(col)\n",
    "\n",
    "len(floats)"
   ]
  },
  {
   "cell_type": "code",
   "execution_count": 4,
   "id": "63d5b8d1",
   "metadata": {},
   "outputs": [
    {
     "name": "stderr",
     "output_type": "stream",
     "text": [
      "C:\\Users\\Admin\\anaconda3\\lib\\site-packages\\seaborn\\distributions.py:2619: FutureWarning: `distplot` is a deprecated function and will be removed in a future version. Please adapt your code to use either `displot` (a figure-level function with similar flexibility) or `histplot` (an axes-level function for histograms).\n",
      "  warnings.warn(msg, FutureWarning)\n"
     ]
    },
    {
     "data": {
      "image/png": "[encoded data removed]",
      "text/plain": [
       "<Figure size 1080x360 with 1 Axes>"
      ]
     },
     "metadata": {
      "needs_background": "light"
     },
     "output_type": "display_data"
    }
   ],
   "source": [
    "plt.subplots(figsize = (15, 5))\n",
    "for i, col in enumerate(floats):\n",
    "  plt.subplot(2, 5, i + 1)\n",
    "  sns.distplot(songs[col])\n",
    "plt.tight_layout()\n",
    "plt.show()"
   ]
  },
  {
   "cell_type": "code",
   "execution_count": 5,
   "id": "f59440d2",
   "metadata": {},
   "outputs": [
    {
     "data": {
      "image/png": "[encoded data removed]",
      "text/plain": [
       "<Figure size 1080x720 with 1 Axes>"
      ]
     },
     "metadata": {},
     "output_type": "display_data"
    }
   ],
   "source": [
    "plt.figure(figsize=(15,10))\n",
    "members['gender'].value_counts().plot.pie(autopct='1.1 %f%%')\n",
    "plt.show()"
   ]
  },
  {
   "cell_type": "code",
   "execution_count": 6,
   "id": "234d57f5",
   "metadata": {},
   "outputs": [
    {
     "data": {
      "image/png": "[encoded data removed]",
      "text/plain": [
       "<Figure size 1080x1800 with 1 Axes>"
      ]
     },
     "metadata": {
      "needs_background": "light"
     },
     "output_type": "display_data"
    }
   ],
   "source": [
    "plt.figure(figsize=(15,25))\n",
    "sns.lineplot(x='source_type',y='source_screen_name',label='Trending',data=train)\n",
    "plt.legend()\n",
    "plt.show()"
   ]
  },
  {
   "cell_type": "code",
   "execution_count": 32,
   "id": "07b8e56a",
   "metadata": {},
   "outputs": [
    {
     "name": "stderr",
     "output_type": "stream",
     "text": [
      "C:\\Users\\Admin\\AppData\\Local\\Temp\\ipykernel_13440\\1789982412.py:6: UserWarning: Matplotlib is currently using agg, which is a non-GUI backend, so cannot show the figure.\n",
      "  plt.show()\n",
      "C:\\Users\\Admin\\anaconda3\\lib\\site-packages\\IPython\\core\\pylabtools.py:151: UserWarning: Glyph 35388 (\\N{CJK UNIFIED IDEOGRAPH-8A3C}) missing from current font.\n",
      "  fig.canvas.print_figure(bytes_io, **kw)\n",
      "C:\\Users\\Admin\\anaconda3\\lib\\site-packages\\IPython\\core\\pylabtools.py:151: UserWarning: Glyph 32882 (\\N{CJK UNIFIED IDEOGRAPH-8072}) missing from current font.\n",
      "  fig.canvas.print_figure(bytes_io, **kw)\n",
      "C:\\Users\\Admin\\anaconda3\\lib\\site-packages\\IPython\\core\\pylabtools.py:151: UserWarning: Glyph 38899 (\\N{CJK UNIFIED IDEOGRAPH-97F3}) missing from current font.\n",
      "  fig.canvas.print_figure(bytes_io, **kw)\n",
      "C:\\Users\\Admin\\anaconda3\\lib\\site-packages\\IPython\\core\\pylabtools.py:151: UserWarning: Glyph 27138 (\\N{CJK UNIFIED IDEOGRAPH-6A02}) missing from current font.\n",
      "  fig.canvas.print_figure(bytes_io, **kw)\n",
      "C:\\Users\\Admin\\anaconda3\\lib\\site-packages\\IPython\\core\\pylabtools.py:151: UserWarning: Glyph 22294 (\\N{CJK UNIFIED IDEOGRAPH-5716}) missing from current font.\n",
      "  fig.canvas.print_figure(bytes_io, **kw)\n",
      "C:\\Users\\Admin\\anaconda3\\lib\\site-packages\\IPython\\core\\pylabtools.py:151: UserWarning: Glyph 26360 (\\N{CJK UNIFIED IDEOGRAPH-66F8}) missing from current font.\n",
      "  fig.canvas.print_figure(bytes_io, **kw)\n",
      "C:\\Users\\Admin\\anaconda3\\lib\\site-packages\\IPython\\core\\pylabtools.py:151: UserWarning: Glyph 39208 (\\N{CJK UNIFIED IDEOGRAPH-9928}) missing from current font.\n",
      "  fig.canvas.print_figure(bytes_io, **kw)\n",
      "C:\\Users\\Admin\\anaconda3\\lib\\site-packages\\IPython\\core\\pylabtools.py:151: UserWarning: Glyph 3619 (\\N{THAI CHARACTER RO RUA}) missing from current font.\n",
      "  fig.canvas.print_figure(bytes_io, **kw)\n",
      "C:\\Users\\Admin\\anaconda3\\lib\\site-packages\\IPython\\core\\pylabtools.py:151: UserWarning: Glyph 3623 (\\N{THAI CHARACTER WO WAEN}) missing from current font.\n",
      "  fig.canvas.print_figure(bytes_io, **kw)\n",
      "C:\\Users\\Admin\\anaconda3\\lib\\site-packages\\IPython\\core\\pylabtools.py:151: UserWarning: Glyph 3617 (\\N{THAI CHARACTER MO MA}) missing from current font.\n",
      "  fig.canvas.print_figure(bytes_io, **kw)\n",
      "C:\\Users\\Admin\\anaconda3\\lib\\site-packages\\IPython\\core\\pylabtools.py:151: UserWarning: Glyph 3624 (\\N{THAI CHARACTER SO SALA}) missing from current font.\n",
      "  fig.canvas.print_figure(bytes_io, **kw)\n",
      "C:\\Users\\Admin\\anaconda3\\lib\\site-packages\\IPython\\core\\pylabtools.py:151: UserWarning: Glyph 3636 (\\N{THAI CHARACTER SARA I}) missing from current font.\n",
      "  fig.canvas.print_figure(bytes_io, **kw)\n",
      "C:\\Users\\Admin\\anaconda3\\lib\\site-packages\\IPython\\core\\pylabtools.py:151: UserWarning: Glyph 3621 (\\N{THAI CHARACTER LO LING}) missing from current font.\n",
      "  fig.canvas.print_figure(bytes_io, **kw)\n",
      "C:\\Users\\Admin\\anaconda3\\lib\\site-packages\\IPython\\core\\pylabtools.py:151: UserWarning: Glyph 3611 (\\N{THAI CHARACTER PO PLA}) missing from current font.\n",
      "  fig.canvas.print_figure(bytes_io, **kw)\n",
      "C:\\Users\\Admin\\anaconda3\\lib\\site-packages\\IPython\\core\\pylabtools.py:151: UserWarning: Glyph 3609 (\\N{THAI CHARACTER NO NU}) missing from current font.\n",
      "  fig.canvas.print_figure(bytes_io, **kw)\n"
     ]
    },
    {
     "data": {
      "image/png": "[encoded data removed]",
      "text/plain": [
       "<Figure size 864x576 with 1 Axes>"
      ]
     },
     "metadata": {
      "needs_background": "light"
     },
     "output_type": "display_data"
    }
   ],
   "source": [
    "fig = plt.figure(figsize =(12,8))\n",
    "sns.countplot(y=songs['artist_name'],palette='rocket_r',\n",
    "    order= songs['artist_name'].value_counts()[0:5].index) \n",
    "plt.xticks(rotation=90,size=12)\n",
    "plt.yticks(rotation=0,size=12)\n",
    "plt.show()"
   ]
  },
  {
   "cell_type": "code",
   "execution_count": 37,
   "id": "0473a575",
   "metadata": {},
   "outputs": [
    {
     "name": "stderr",
     "output_type": "stream",
     "text": [
      "C:\\Users\\Admin\\anaconda3\\lib\\site-packages\\seaborn\\_decorators.py:36: FutureWarning: Pass the following variable as a keyword arg: x. From version 0.12, the only valid positional argument will be `data`, and passing other arguments without an explicit keyword will result in an error or misinterpretation.\n",
      "  warnings.warn(\n",
      "C:\\Users\\Admin\\AppData\\Local\\Temp\\ipykernel_13440\\3677284862.py:11: UserWarning: Matplotlib is currently using agg, which is a non-GUI backend, so cannot show the figure.\n",
      "  plt.show()\n"
     ]
    },
    {
     "data": {
      "image/png": "[encoded data removed]",
      "text/plain": [
       "<Figure size 5760x2016 with 1 Axes>"
      ]
     },
     "metadata": {
      "needs_background": "light"
     },
     "output_type": "display_data"
    },
    {
     "data": {
      "image/png": "[encoded data removed]",
      "text/plain": [
       "<Figure size 5760x1296 with 1 Axes>"
      ]
     },
     "metadata": {
      "needs_background": "light"
     },
     "output_type": "display_data"
    }
   ],
   "source": [
    "fig = plt.figure(figsize =(80,28)) \n",
    "plt.subplot(1,2,1)\n",
    "plt.title('Symboling Histogram')\n",
    "sns.countplot(train.source_system_tab,palette=(\"cubehelix\"))\n",
    "\n",
    "fig = plt.figure(figsize =(80,18)) \n",
    "plt.subplot(1,2,2)\n",
    "plt.title('SST VS T')\n",
    "sns.boxplot(x=train.source_system_tab,y=train.target,palette=(\"cubehelix\")) \n",
    "\n",
    "plt.show()\n",
    "\n"
   ]
  },
  {
   "cell_type": "code",
   "execution_count": 5,
   "id": "9d58380b",
   "metadata": {},
   "outputs": [
    {
     "data": {
      "text/plain": [
       "<AxesSubplot:>"
      ]
     },
     "execution_count": 5,
     "metadata": {},
     "output_type": "execute_result"
    },
    {
     "data": {
      "image/png": "[encoded data removed]",
      "text/plain": [
       "<Figure size 432x288 with 1 Axes>"
      ]
     },
     "metadata": {
      "needs_background": "light"
     },
     "output_type": "display_data"
    }
   ],
   "source": [
    "#Boxplot\n",
    "\n",
    "songs[['song_length']].boxplot()"
   ]
  },
  {
   "cell_type": "markdown",
   "id": "3110397a",
   "metadata": {},
   "source": [
    "# FEATURE ENGINEERING"
   ]
  },
  {
   "cell_type": "code",
   "execution_count": 4,
   "id": "1c93d116",
   "metadata": {},
   "outputs": [
    {
     "name": "stderr",
     "output_type": "stream",
     "text": [
      "C:\\Users\\Admin\\AppData\\Local\\Temp\\ipykernel_19812\\3626324522.py:6: UserWarning: Boolean Series key will be reindexed to match DataFrame index.\n",
      "  songs= songs[(songs['language'] < upper_lim) & (train['target'] > lower_lim)]\n"
     ]
    }
   ],
   "source": [
    "#Dropping the outlier rows with standard deviation\n",
    "factor = 3\n",
    "upper_lim = songs['language'].mean () + songs['language'].std () * factor\n",
    "lower_lim = train['target'].mean () - train['target'].std () * factor\n",
    "\n",
    "songs= songs[(songs['language'] < upper_lim) & (train['target'] > lower_lim)]"
   ]
  },
  {
   "cell_type": "code",
   "execution_count": 7,
   "id": "3f3cadf9",
   "metadata": {},
   "outputs": [
    {
     "name": "stderr",
     "output_type": "stream",
     "text": [
      "C:\\Users\\Admin\\AppData\\Local\\Temp\\ipykernel_19812\\3388235530.py:5: UserWarning: Boolean Series key will be reindexed to match DataFrame index.\n",
      "  songs = songs[(songs['language'] < upper_lim) & (train['target'] > lower_lim)]\n"
     ]
    }
   ],
   "source": [
    "#Dropping the outlier rows with Percentiles\n",
    "\n",
    "upper_lim = songs['language'].quantile(.95)\n",
    "lower_lim = train['target'].quantile(.05)\n",
    "\n",
    "songs = songs[(songs['language'] < upper_lim) & (train['target'] > lower_lim)]"
   ]
  },
  {
   "cell_type": "markdown",
   "id": "e2f5e5df",
   "metadata": {},
   "source": [
    "# BINNING"
   ]
  },
  {
   "cell_type": "code",
   "execution_count": 18,
   "id": "f8cbc688",
   "metadata": {},
   "outputs": [],
   "source": [
    "#Numerical Binning Example\n",
    "members['bin'] = pd.cut(members['registered_via'], bins=[0,10,15,20], labels=[\"Low\", \"Mid\", \"High\"])"
   ]
  },
  {
   "cell_type": "markdown",
   "id": "74b7f9e1",
   "metadata": {},
   "source": [
    "# One Hot Encoding"
   ]
  },
  {
   "cell_type": "code",
   "execution_count": 22,
   "id": "bd9f8967",
   "metadata": {},
   "outputs": [],
   "source": [
    "encoded_columns = pd.get_dummies(members['gender'])\n",
    "members = members.join(encoded_columns).drop('gender', axis=1)"
   ]
  },
  {
   "cell_type": "markdown",
   "id": "2f88fc45",
   "metadata": {},
   "source": [
    "# Categorical Column Grouping"
   ]
  },
  {
   "cell_type": "code",
   "execution_count": 28,
   "id": "bc5351bb",
   "metadata": {},
   "outputs": [
    {
     "data": {
      "text/html": [
       "<div>\n",
       "<style scoped>\n",
       "    .dataframe tbody tr th:only-of-type {\n",
       "        vertical-align: middle;\n",
       "    }\n",
       "\n",
       "    .dataframe tbody tr th {\n",
       "        vertical-align: top;\n",
       "    }\n",
       "\n",
       "    .dataframe thead th {\n",
       "        text-align: right;\n",
       "    }\n",
       "</style>\n",
       "<table border=\"1\" class=\"dataframe\">\n",
       "  <thead>\n",
       "    <tr style=\"text-align: right;\">\n",
       "      <th></th>\n",
       "      <th>msno</th>\n",
       "      <th>song_id</th>\n",
       "      <th>source_screen_name</th>\n",
       "      <th>source_type</th>\n",
       "      <th>target</th>\n",
       "    </tr>\n",
       "    <tr>\n",
       "      <th>source_system_tab</th>\n",
       "      <th></th>\n",
       "      <th></th>\n",
       "      <th></th>\n",
       "      <th></th>\n",
       "      <th></th>\n",
       "    </tr>\n",
       "  </thead>\n",
       "  <tbody>\n",
       "    <tr>\n",
       "      <th>discover</th>\n",
       "      <td>LThaiVqGGnVTPmTcmwN/LLo4fVb5dzkduzd7s1SgzIA=</td>\n",
       "      <td>YN4T/yvvXtYrBVN8KTnieiQohHL3T9fnzUkbLWcgLro=</td>\n",
       "      <td>Online playlist more</td>\n",
       "      <td>online-playlist</td>\n",
       "      <td>0</td>\n",
       "    </tr>\n",
       "    <tr>\n",
       "      <th>explore</th>\n",
       "      <td>6aH1YAi5YwvZUHtpjEaMQwM0p4wP4XLrkWQSdXDF9L8=</td>\n",
       "      <td>reXuGcEWDDCnL0K3Th//3DFG4S1ACSpJMzA+CFipo1g=</td>\n",
       "      <td>Explore</td>\n",
       "      <td>online-playlist</td>\n",
       "      <td>0</td>\n",
       "    </tr>\n",
       "    <tr>\n",
       "      <th>listen with</th>\n",
       "      <td>1d4acB2bhEZCFjSRwvO4ls8PrBtvNTlkcAcxYx8FcWE=</td>\n",
       "      <td>PgRtmmESVNtWjoZHO5a1r21vIz9sVZmcJJpFCbRa1LI=</td>\n",
       "      <td>Others profile more</td>\n",
       "      <td>listen-with</td>\n",
       "      <td>0</td>\n",
       "    </tr>\n",
       "    <tr>\n",
       "      <th>my library</th>\n",
       "      <td>o+5RNlSWrzvrphgBNGIo1FLkGxBgyICns6qXj3nS7Pk=</td>\n",
       "      <td>wBTWuHbjdjxnG1lQcbqnK4FddV24rUhuyrYLd9c/hmk=</td>\n",
       "      <td>Local playlist more</td>\n",
       "      <td>local-library</td>\n",
       "      <td>1</td>\n",
       "    </tr>\n",
       "    <tr>\n",
       "      <th>notification</th>\n",
       "      <td>uJLfbaxwYGojx3wlcptcMIuaehtrIs0fz3jO2GCGxFI=</td>\n",
       "      <td>h3v1qdH9EaL0U5yvS2HnycFl37Z2vbBIoFx+i/b3wSU=</td>\n",
       "      <td>Album more</td>\n",
       "      <td>album</td>\n",
       "      <td>0</td>\n",
       "    </tr>\n",
       "    <tr>\n",
       "      <th>radio</th>\n",
       "      <td>FGtllVqz18RPiwJj/edr2gV78zirAiY/9SmYvia+kCg=</td>\n",
       "      <td>Qp8JP1AroVF2GStC3YzKtnJNY4NC4cqyGtafi6ed7Xo=</td>\n",
       "      <td>Radio</td>\n",
       "      <td>radio</td>\n",
       "      <td>0</td>\n",
       "    </tr>\n",
       "    <tr>\n",
       "      <th>search</th>\n",
       "      <td>gxxBbzV3eE2XGjUrFVB2FzAve55Oe1s86HD+OEh36Gw=</td>\n",
       "      <td>reXuGcEWDDCnL0K3Th//3DFG4S1ACSpJMzA+CFipo1g=</td>\n",
       "      <td>Artist more</td>\n",
       "      <td>top-hits-for-artist</td>\n",
       "      <td>0</td>\n",
       "    </tr>\n",
       "    <tr>\n",
       "      <th>settings</th>\n",
       "      <td>1wiu2UfN0BNhHfPTrDS3S/rQkX/vnwDoKH6ODTUdH9k=</td>\n",
       "      <td>M9rAajz4dYuRhZ7jLvf9RRayVA3os61X/XXHEuW4giA=</td>\n",
       "      <td>Local playlist more</td>\n",
       "      <td>local-library</td>\n",
       "      <td>1</td>\n",
       "    </tr>\n",
       "  </tbody>\n",
       "</table>\n",
       "</div>"
      ],
      "text/plain": [
       "                                                           msno  \\\n",
       "source_system_tab                                                 \n",
       "discover           LThaiVqGGnVTPmTcmwN/LLo4fVb5dzkduzd7s1SgzIA=   \n",
       "explore            6aH1YAi5YwvZUHtpjEaMQwM0p4wP4XLrkWQSdXDF9L8=   \n",
       "listen with        1d4acB2bhEZCFjSRwvO4ls8PrBtvNTlkcAcxYx8FcWE=   \n",
       "my library         o+5RNlSWrzvrphgBNGIo1FLkGxBgyICns6qXj3nS7Pk=   \n",
       "notification       uJLfbaxwYGojx3wlcptcMIuaehtrIs0fz3jO2GCGxFI=   \n",
       "radio              FGtllVqz18RPiwJj/edr2gV78zirAiY/9SmYvia+kCg=   \n",
       "search             gxxBbzV3eE2XGjUrFVB2FzAve55Oe1s86HD+OEh36Gw=   \n",
       "settings           1wiu2UfN0BNhHfPTrDS3S/rQkX/vnwDoKH6ODTUdH9k=   \n",
       "\n",
       "                                                        song_id  \\\n",
       "source_system_tab                                                 \n",
       "discover           YN4T/yvvXtYrBVN8KTnieiQohHL3T9fnzUkbLWcgLro=   \n",
       "explore            reXuGcEWDDCnL0K3Th//3DFG4S1ACSpJMzA+CFipo1g=   \n",
       "listen with        PgRtmmESVNtWjoZHO5a1r21vIz9sVZmcJJpFCbRa1LI=   \n",
       "my library         wBTWuHbjdjxnG1lQcbqnK4FddV24rUhuyrYLd9c/hmk=   \n",
       "notification       h3v1qdH9EaL0U5yvS2HnycFl37Z2vbBIoFx+i/b3wSU=   \n",
       "radio              Qp8JP1AroVF2GStC3YzKtnJNY4NC4cqyGtafi6ed7Xo=   \n",
       "search             reXuGcEWDDCnL0K3Th//3DFG4S1ACSpJMzA+CFipo1g=   \n",
       "settings           M9rAajz4dYuRhZ7jLvf9RRayVA3os61X/XXHEuW4giA=   \n",
       "\n",
       "                     source_screen_name          source_type  target  \n",
       "source_system_tab                                                     \n",
       "discover           Online playlist more      online-playlist       0  \n",
       "explore                         Explore      online-playlist       0  \n",
       "listen with         Others profile more          listen-with       0  \n",
       "my library          Local playlist more        local-library       1  \n",
       "notification                 Album more                album       0  \n",
       "radio                             Radio                radio       0  \n",
       "search                      Artist more  top-hits-for-artist       0  \n",
       "settings            Local playlist more        local-library       1  "
      ]
     },
     "execution_count": 28,
     "metadata": {},
     "output_type": "execute_result"
    }
   ],
   "source": [
    "train.groupby('source_system_tab').agg(lambda x: x.value_counts().index[0])"
   ]
  }
 ],
 "metadata": {
  "kernelspec": {
   "display_name": "Python 3 (ipykernel)",
   "language": "python",
   "name": "python3"
  },
  "language_info": {
   "codemirror_mode": {
    "name": "ipython",
    "version": 3
   },
   "file_extension": ".py",
   "mimetype": "text/x-python",
   "name": "python",
   "nbconvert_exporter": "python",
   "pygments_lexer": "ipython3",
   "version": "3.9.12"
  }
 },
 "nbformat": 4,
 "nbformat_minor": 5
}
